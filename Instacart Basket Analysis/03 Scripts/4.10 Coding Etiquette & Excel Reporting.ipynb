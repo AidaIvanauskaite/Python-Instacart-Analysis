{
 "cells": [
  {
   "cell_type": "markdown",
   "id": "c3540967",
   "metadata": {},
   "source": [
    "# 01. Importing libraries"
   ]
  },
  {
   "cell_type": "code",
   "execution_count": 1,
   "id": "e5b92dee",
   "metadata": {},
   "outputs": [],
   "source": [
    "# Import libraries\n",
    "import pandas as pd\n",
    "import numpy as np\n",
    "import os\n",
    "import matplotlib.pyplot as plt\n",
    "import seaborn as sns\n",
    "import scipy\n",
    "import warnings"
   ]
  },
  {
   "cell_type": "code",
   "execution_count": 2,
   "id": "ae6fe5a7",
   "metadata": {},
   "outputs": [],
   "source": [
    "# seth a path\n",
    "path = '/Users/aida/Desktop/Careerfoundry/python/Instacart Basket Analysis'"
   ]
  },
  {
   "cell_type": "code",
   "execution_count": 3,
   "id": "d0c3ae85",
   "metadata": {},
   "outputs": [],
   "source": [
    "# Import most up-to-date project data\n",
    "instacart = pd.read_pickle(os.path.join(path, '02 Data', 'Prepared Data', 'orders_products_customers_merged.pkl'))"
   ]
  },
  {
   "cell_type": "code",
   "execution_count": 4,
   "id": "85eb8554",
   "metadata": {},
   "outputs": [
    {
     "data": {
      "text/plain": [
       "Index(['product_id', 'product_name', 'aisle_id', 'department_id', 'prices',\n",
       "       'Unnamed: 0.1', 'order_id', 'user_id', 'eval_set', 'order_number',\n",
       "       'orders_day_of_week', 'order_hour_of_day', 'days_since_prior_order',\n",
       "       'add_to_cart_order', 'reordered', 'price_range_loc', 'busiest_day',\n",
       "       'busiest_days', 'busiest_period_of_day', 'max_order', 'loyalty_flag',\n",
       "       'average_spend', 'spender_flag', 'Customer_frequency', 'frequency_flag',\n",
       "       'first_name', 'surname', 'gender', 'state', 'age', 'date_joined',\n",
       "       'n_dependants', 'marital_status', 'income', '_merge'],\n",
       "      dtype='object')"
      ]
     },
     "execution_count": 4,
     "metadata": {},
     "output_type": "execute_result"
    }
   ],
   "source": [
    "# Check table column names\n",
    "instacart.columns"
   ]
  },
  {
   "cell_type": "code",
   "execution_count": 5,
   "id": "e7b1ce9f",
   "metadata": {},
   "outputs": [],
   "source": [
    "# Creating list of states into Northeast Region\n",
    "Northeast_states = ['Maine', 'New Hampshire', 'Vermont', 'Massachusetts', 'Rhode Island', 'Connecticut', 'New York', 'Pennsylvania', 'New Jersey']"
   ]
  },
  {
   "cell_type": "code",
   "execution_count": 6,
   "id": "a6369d3e",
   "metadata": {},
   "outputs": [],
   "source": [
    "# Creating list of states into Midwest Region\n",
    "Midwest_states = ['Wisconsin', 'Michigan', 'Illinois', 'Indiana', 'Ohio', 'North Dakota', 'South Dakota', 'Nebraska', 'Kansas', 'Minnesota', 'Iowa', 'Missouri']"
   ]
  },
  {
   "cell_type": "code",
   "execution_count": 7,
   "id": "ce73d374",
   "metadata": {},
   "outputs": [],
   "source": [
    "# Creating list of states into South Region\n",
    "South_states = ['Delaware', 'Maryland', 'District of Columbia', 'Virginia', 'West Virginia', 'North Carolina', 'South Carolina', 'Georgia', 'Florida', 'Kentucky', 'Tennessee', 'Mississippi', 'Alabama', 'Oklahoma', 'Texas', 'Arkansas', 'Louisiana']"
   ]
  },
  {
   "cell_type": "code",
   "execution_count": 8,
   "id": "4e2e7613",
   "metadata": {},
   "outputs": [],
   "source": [
    "# Creating list of states into West Region\n",
    "West_states = ['Idaho', 'Montana', 'Wyoming', 'Nevada', 'Utah', 'Colorado', 'Arizona', 'New Mexico', 'Alaska', 'Washington', 'Oregon', 'California', 'Hawaii']"
   ]
  },
  {
   "cell_type": "code",
   "execution_count": 9,
   "id": "a1267bf5",
   "metadata": {},
   "outputs": [],
   "source": [
    "# Set the Region for each state in the table\n",
    "instacart.loc[instacart['state'].isin(Northeast_states), 'Region'] = 'Northeast'"
   ]
  },
  {
   "cell_type": "code",
   "execution_count": 10,
   "id": "6c7fb6ee",
   "metadata": {},
   "outputs": [],
   "source": [
    "instacart.loc[instacart['state'].isin(Midwest_states), 'Region'] = 'Midwest'"
   ]
  },
  {
   "cell_type": "code",
   "execution_count": 11,
   "id": "b005d51e",
   "metadata": {},
   "outputs": [],
   "source": [
    "instacart.loc[instacart['state'].isin(South_states), 'Region'] = 'South'"
   ]
  },
  {
   "cell_type": "code",
   "execution_count": 12,
   "id": "32520a6f",
   "metadata": {},
   "outputs": [],
   "source": [
    "instacart.loc[instacart['state'].isin(West_states), 'Region'] = 'West'"
   ]
  },
  {
   "cell_type": "code",
   "execution_count": 13,
   "id": "12943b4d",
   "metadata": {},
   "outputs": [
    {
     "data": {
      "text/plain": [
       "Region\n",
       "South        10791885\n",
       "West          8292913\n",
       "Midwest       7597325\n",
       "Northeast     5722736\n",
       "Name: count, dtype: int64"
      ]
     },
     "execution_count": 13,
     "metadata": {},
     "output_type": "execute_result"
    }
   ],
   "source": [
    "# Find value counts for each region to check for assignment completion\n",
    "instacart['Region'].value_counts(dropna = False)"
   ]
  },
  {
   "cell_type": "code",
   "execution_count": 14,
   "id": "f6adec3f",
   "metadata": {},
   "outputs": [],
   "source": [
    "# Create table for region and spending flag\n",
    "region_spending = pd.crosstab(instacart['Region'], instacart['spender_flag'], dropna = False)"
   ]
  },
  {
   "cell_type": "code",
   "execution_count": 15,
   "id": "ff628f15",
   "metadata": {},
   "outputs": [
    {
     "data": {
      "text/html": [
       "<div>\n",
       "<style scoped>\n",
       "    .dataframe tbody tr th:only-of-type {\n",
       "        vertical-align: middle;\n",
       "    }\n",
       "\n",
       "    .dataframe tbody tr th {\n",
       "        vertical-align: top;\n",
       "    }\n",
       "\n",
       "    .dataframe thead th {\n",
       "        text-align: right;\n",
       "    }\n",
       "</style>\n",
       "<table border=\"1\" class=\"dataframe\">\n",
       "  <thead>\n",
       "    <tr style=\"text-align: right;\">\n",
       "      <th>spender_flag</th>\n",
       "      <th>High_spender</th>\n",
       "      <th>Low_spender</th>\n",
       "    </tr>\n",
       "    <tr>\n",
       "      <th>Region</th>\n",
       "      <th></th>\n",
       "      <th></th>\n",
       "    </tr>\n",
       "  </thead>\n",
       "  <tbody>\n",
       "    <tr>\n",
       "      <th>Midwest</th>\n",
       "      <td>155975</td>\n",
       "      <td>7441350</td>\n",
       "    </tr>\n",
       "    <tr>\n",
       "      <th>Northeast</th>\n",
       "      <td>108225</td>\n",
       "      <td>5614511</td>\n",
       "    </tr>\n",
       "    <tr>\n",
       "      <th>South</th>\n",
       "      <td>209691</td>\n",
       "      <td>10582194</td>\n",
       "    </tr>\n",
       "    <tr>\n",
       "      <th>West</th>\n",
       "      <td>160354</td>\n",
       "      <td>8132559</td>\n",
       "    </tr>\n",
       "  </tbody>\n",
       "</table>\n",
       "</div>"
      ],
      "text/plain": [
       "spender_flag  High_spender  Low_spender\n",
       "Region                                 \n",
       "Midwest             155975      7441350\n",
       "Northeast           108225      5614511\n",
       "South               209691     10582194\n",
       "West                160354      8132559"
      ]
     },
     "execution_count": 15,
     "metadata": {},
     "output_type": "execute_result"
    }
   ],
   "source": [
    "# View table\n",
    "region_spending"
   ]
  },
  {
   "cell_type": "code",
   "execution_count": 16,
   "id": "18389a11",
   "metadata": {},
   "outputs": [],
   "source": [
    "# Create low-activity flag\n",
    "instacart.loc[instacart['order_number'] < 5, 'low_spender'] = 'Yes'"
   ]
  },
  {
   "cell_type": "code",
   "execution_count": 17,
   "id": "bd2a21a5",
   "metadata": {},
   "outputs": [],
   "source": [
    "instacart.loc[instacart['order_number'] >= 5, 'low_spender'] = 'No'"
   ]
  },
  {
   "cell_type": "code",
   "execution_count": 18,
   "id": "85d16418",
   "metadata": {},
   "outputs": [],
   "source": [
    "# Create table including only mid to high_activity customers\n",
    "mid_high_spender = instacart[instacart['low_spender'] == 'No']"
   ]
  },
  {
   "cell_type": "code",
   "execution_count": 19,
   "id": "461c1aee",
   "metadata": {},
   "outputs": [
    {
     "data": {
      "text/plain": [
       "(32404859, 37)"
      ]
     },
     "execution_count": 19,
     "metadata": {},
     "output_type": "execute_result"
    }
   ],
   "source": [
    "# Compare shapes of riginal and new table\n",
    "instacart.shape"
   ]
  },
  {
   "cell_type": "code",
   "execution_count": 20,
   "id": "dec23105",
   "metadata": {},
   "outputs": [
    {
     "data": {
      "text/plain": [
       "(24414877, 37)"
      ]
     },
     "execution_count": 20,
     "metadata": {},
     "output_type": "execute_result"
    }
   ],
   "source": [
    "mid_high_spender.shape"
   ]
  },
  {
   "cell_type": "code",
   "execution_count": 21,
   "id": "58d21cf1",
   "metadata": {},
   "outputs": [
    {
     "data": {
      "text/plain": [
       "low_spender\n",
       "No     24414877\n",
       "Yes     7989982\n",
       "Name: count, dtype: int64"
      ]
     },
     "execution_count": 21,
     "metadata": {},
     "output_type": "execute_result"
    }
   ],
   "source": [
    "# Check that new table has no missing values\n",
    "instacart['low_spender'].value_counts(dropna = False)"
   ]
  },
  {
   "cell_type": "code",
   "execution_count": 22,
   "id": "8bb0192d",
   "metadata": {},
   "outputs": [],
   "source": [
    "# Save mid to high_activity pickle file\n",
    "mid_high_spender.to_pickle( 'mid_high_spender.pkl')"
   ]
  },
  {
   "cell_type": "code",
   "execution_count": 23,
   "id": "c0ce5209",
   "metadata": {},
   "outputs": [],
   "source": [
    "# Set the default flag to regular\n",
    "instacart['shopping_behavior'] = 'Regular'"
   ]
  },
  {
   "cell_type": "code",
   "execution_count": 24,
   "id": "44bbde72",
   "metadata": {},
   "outputs": [],
   "source": [
    "# Set the flag to 'Early Bird' for orders between 5am and 8am\n",
    "instacart.loc[instacart['order_hour_of_day'].between(5, 8), 'shopping_behavior'] = \"Early Bird\""
   ]
  },
  {
   "cell_type": "code",
   "execution_count": 25,
   "id": "c36f1428",
   "metadata": {},
   "outputs": [],
   "source": [
    "# Set the flag to 'Night Owl' for orders after 8pm and before 5am\n",
    "instacart.loc[(instacart['order_hour_of_day'] >= 21) | (instacart['order_hour_of_day'] < 5), 'shopping_behavior'] = 'Night Owl'"
   ]
  },
  {
   "cell_type": "code",
   "execution_count": 26,
   "id": "84ef983f",
   "metadata": {},
   "outputs": [
    {
     "data": {
      "text/plain": [
       "shopping_behavior\n",
       "Regular       27076688\n",
       "Early Bird     2987626\n",
       "Night Owl      2340545\n",
       "Name: count, dtype: int64"
      ]
     },
     "execution_count": 26,
     "metadata": {},
     "output_type": "execute_result"
    }
   ],
   "source": [
    "# Check for assignment completion\n",
    "instacart['shopping_behavior'].value_counts(dropna = False)"
   ]
  },
  {
   "cell_type": "code",
   "execution_count": 27,
   "id": "cbc1c583",
   "metadata": {},
   "outputs": [
    {
     "data": {
      "image/png": "[encoded data removed]",
      "text/plain": [
       "<Figure size 640x480 with 1 Axes>"
      ]
     },
     "metadata": {},
     "output_type": "display_data"
    }
   ],
   "source": [
    "# Create bar graph for shopping behavior'#b03671', '#d576a4','#e8b5ce'\n",
    "shopping_behavior_bar = instacart['shopping_behavior'].value_counts().plot.bar(color =['#b03671', '#d576a4','#e8b5ce'])"
   ]
  },
  {
   "cell_type": "code",
   "execution_count": 28,
   "id": "db2a6ccb",
   "metadata": {},
   "outputs": [],
   "source": [
    "# Create pie chart for shopping behavior\n",
    "# Create table of shopping behavior counts\n",
    "behavior_counts = instacart['shopping_behavior'].value_counts()"
   ]
  },
  {
   "cell_type": "code",
   "execution_count": 29,
   "id": "accc2aac",
   "metadata": {},
   "outputs": [
    {
     "data": {
      "image/png": "[encoded data removed]",
      "text/plain": [
       "<Figure size 640x480 with 1 Axes>"
      ]
     },
     "metadata": {},
     "output_type": "display_data"
    }
   ],
   "source": [
    "# Create pie chart with labels and color\n",
    "behavior_pie = plt.pie(behavior_counts,labels = behavior_counts.index, autopct='%1.1f%%', colors=['#b03671', '#d576a4','#e8b5ce'])\n",
    "# Add title\n",
    "plt.title('Shopping Behavior')\n",
    "# Save Pie Chart\n",
    "plt.savefig( 'behavior_pie.png')"
   ]
  },
  {
   "cell_type": "code",
   "execution_count": 30,
   "id": "985461e8",
   "metadata": {},
   "outputs": [],
   "source": [
    "# Find min, max, and mean order numbers for each behavior\n",
    "behavior_order_stats = instacart.groupby('shopping_behavior')['order_number'].agg(['min', 'max', 'mean'])"
   ]
  },
  {
   "cell_type": "code",
   "execution_count": 31,
   "id": "87a8cf96",
   "metadata": {},
   "outputs": [
    {
     "data": {
      "text/html": [
       "<div>\n",
       "<style scoped>\n",
       "    .dataframe tbody tr th:only-of-type {\n",
       "        vertical-align: middle;\n",
       "    }\n",
       "\n",
       "    .dataframe tbody tr th {\n",
       "        vertical-align: top;\n",
       "    }\n",
       "\n",
       "    .dataframe thead th {\n",
       "        text-align: right;\n",
       "    }\n",
       "</style>\n",
       "<table border=\"1\" class=\"dataframe\">\n",
       "  <thead>\n",
       "    <tr style=\"text-align: right;\">\n",
       "      <th></th>\n",
       "      <th>min</th>\n",
       "      <th>max</th>\n",
       "      <th>mean</th>\n",
       "    </tr>\n",
       "    <tr>\n",
       "      <th>shopping_behavior</th>\n",
       "      <th></th>\n",
       "      <th></th>\n",
       "      <th></th>\n",
       "    </tr>\n",
       "  </thead>\n",
       "  <tbody>\n",
       "    <tr>\n",
       "      <th>Early Bird</th>\n",
       "      <td>1</td>\n",
       "      <td>99</td>\n",
       "      <td>19.338870</td>\n",
       "    </tr>\n",
       "    <tr>\n",
       "      <th>Night Owl</th>\n",
       "      <td>1</td>\n",
       "      <td>99</td>\n",
       "      <td>16.767266</td>\n",
       "    </tr>\n",
       "    <tr>\n",
       "      <th>Regular</th>\n",
       "      <td>1</td>\n",
       "      <td>99</td>\n",
       "      <td>16.932356</td>\n",
       "    </tr>\n",
       "  </tbody>\n",
       "</table>\n",
       "</div>"
      ],
      "text/plain": [
       "                   min  max       mean\n",
       "shopping_behavior                     \n",
       "Early Bird           1   99  19.338870\n",
       "Night Owl            1   99  16.767266\n",
       "Regular              1   99  16.932356"
      ]
     },
     "execution_count": 31,
     "metadata": {},
     "output_type": "execute_result"
    }
   ],
   "source": [
    "# View stats\n",
    "behavior_order_stats"
   ]
  },
  {
   "cell_type": "code",
   "execution_count": 32,
   "id": "acc4a615",
   "metadata": {},
   "outputs": [],
   "source": [
    "# Find the expenditure for each order for each customer\n",
    "behavior_order_total = instacart.groupby(['shopping_behavior', 'user_id', 'order_number'])['prices'].sum().reset_index()"
   ]
  },
  {
   "cell_type": "code",
   "execution_count": 33,
   "id": "e83f8efb",
   "metadata": {},
   "outputs": [
    {
     "data": {
      "text/html": [
       "<div>\n",
       "<style scoped>\n",
       "    .dataframe tbody tr th:only-of-type {\n",
       "        vertical-align: middle;\n",
       "    }\n",
       "\n",
       "    .dataframe tbody tr th {\n",
       "        vertical-align: top;\n",
       "    }\n",
       "\n",
       "    .dataframe thead th {\n",
       "        text-align: right;\n",
       "    }\n",
       "</style>\n",
       "<table border=\"1\" class=\"dataframe\">\n",
       "  <thead>\n",
       "    <tr style=\"text-align: right;\">\n",
       "      <th></th>\n",
       "      <th>shopping_behavior</th>\n",
       "      <th>user_id</th>\n",
       "      <th>order_number</th>\n",
       "      <th>prices</th>\n",
       "    </tr>\n",
       "  </thead>\n",
       "  <tbody>\n",
       "    <tr>\n",
       "      <th>0</th>\n",
       "      <td>Early Bird</td>\n",
       "      <td>1</td>\n",
       "      <td>1</td>\n",
       "      <td>31.6</td>\n",
       "    </tr>\n",
       "    <tr>\n",
       "      <th>1</th>\n",
       "      <td>Early Bird</td>\n",
       "      <td>1</td>\n",
       "      <td>2</td>\n",
       "      <td>35.4</td>\n",
       "    </tr>\n",
       "    <tr>\n",
       "      <th>2</th>\n",
       "      <td>Early Bird</td>\n",
       "      <td>1</td>\n",
       "      <td>4</td>\n",
       "      <td>26.0</td>\n",
       "    </tr>\n",
       "    <tr>\n",
       "      <th>3</th>\n",
       "      <td>Early Bird</td>\n",
       "      <td>1</td>\n",
       "      <td>6</td>\n",
       "      <td>25.0</td>\n",
       "    </tr>\n",
       "    <tr>\n",
       "      <th>4</th>\n",
       "      <td>Early Bird</td>\n",
       "      <td>1</td>\n",
       "      <td>10</td>\n",
       "      <td>63.1</td>\n",
       "    </tr>\n",
       "    <tr>\n",
       "      <th>...</th>\n",
       "      <td>...</td>\n",
       "      <td>...</td>\n",
       "      <td>...</td>\n",
       "      <td>...</td>\n",
       "    </tr>\n",
       "    <tr>\n",
       "      <th>3214680</th>\n",
       "      <td>Regular</td>\n",
       "      <td>99999</td>\n",
       "      <td>27</td>\n",
       "      <td>159.7</td>\n",
       "    </tr>\n",
       "    <tr>\n",
       "      <th>3214681</th>\n",
       "      <td>Regular</td>\n",
       "      <td>99999</td>\n",
       "      <td>28</td>\n",
       "      <td>124.7</td>\n",
       "    </tr>\n",
       "    <tr>\n",
       "      <th>3214682</th>\n",
       "      <td>Regular</td>\n",
       "      <td>99999</td>\n",
       "      <td>29</td>\n",
       "      <td>30.5</td>\n",
       "    </tr>\n",
       "    <tr>\n",
       "      <th>3214683</th>\n",
       "      <td>Regular</td>\n",
       "      <td>99999</td>\n",
       "      <td>33</td>\n",
       "      <td>41.2</td>\n",
       "    </tr>\n",
       "    <tr>\n",
       "      <th>3214684</th>\n",
       "      <td>Regular</td>\n",
       "      <td>99999</td>\n",
       "      <td>34</td>\n",
       "      <td>80.6</td>\n",
       "    </tr>\n",
       "  </tbody>\n",
       "</table>\n",
       "<p>3214685 rows × 4 columns</p>\n",
       "</div>"
      ],
      "text/plain": [
       "        shopping_behavior user_id  order_number  prices\n",
       "0              Early Bird       1             1    31.6\n",
       "1              Early Bird       1             2    35.4\n",
       "2              Early Bird       1             4    26.0\n",
       "3              Early Bird       1             6    25.0\n",
       "4              Early Bird       1            10    63.1\n",
       "...                   ...     ...           ...     ...\n",
       "3214680           Regular   99999            27   159.7\n",
       "3214681           Regular   99999            28   124.7\n",
       "3214682           Regular   99999            29    30.5\n",
       "3214683           Regular   99999            33    41.2\n",
       "3214684           Regular   99999            34    80.6\n",
       "\n",
       "[3214685 rows x 4 columns]"
      ]
     },
     "execution_count": 33,
     "metadata": {},
     "output_type": "execute_result"
    }
   ],
   "source": [
    "# View order expenditure stats\n",
    "behavior_order_total"
   ]
  },
  {
   "cell_type": "code",
   "execution_count": 34,
   "id": "f0aded1f",
   "metadata": {},
   "outputs": [],
   "source": [
    "# Find the expenditure statistics for each customer\n",
    "behavior_shopper_total = behavior_order_total.groupby(['shopping_behavior', 'user_id'])['prices'].agg(['min', 'max', 'mean']).reset_index()"
   ]
  },
  {
   "cell_type": "code",
   "execution_count": 35,
   "id": "ed869149",
   "metadata": {},
   "outputs": [
    {
     "data": {
      "text/html": [
       "<div>\n",
       "<style scoped>\n",
       "    .dataframe tbody tr th:only-of-type {\n",
       "        vertical-align: middle;\n",
       "    }\n",
       "\n",
       "    .dataframe tbody tr th {\n",
       "        vertical-align: top;\n",
       "    }\n",
       "\n",
       "    .dataframe thead th {\n",
       "        text-align: right;\n",
       "    }\n",
       "</style>\n",
       "<table border=\"1\" class=\"dataframe\">\n",
       "  <thead>\n",
       "    <tr style=\"text-align: right;\">\n",
       "      <th></th>\n",
       "      <th>shopping_behavior</th>\n",
       "      <th>user_id</th>\n",
       "      <th>min</th>\n",
       "      <th>max</th>\n",
       "      <th>mean</th>\n",
       "    </tr>\n",
       "  </thead>\n",
       "  <tbody>\n",
       "    <tr>\n",
       "      <th>0</th>\n",
       "      <td>Early Bird</td>\n",
       "      <td>1</td>\n",
       "      <td>25.0</td>\n",
       "      <td>63.1</td>\n",
       "      <td>36.220000</td>\n",
       "    </tr>\n",
       "    <tr>\n",
       "      <th>1</th>\n",
       "      <td>Early Bird</td>\n",
       "      <td>10000</td>\n",
       "      <td>11.8</td>\n",
       "      <td>272.3</td>\n",
       "      <td>140.345455</td>\n",
       "    </tr>\n",
       "    <tr>\n",
       "      <th>2</th>\n",
       "      <td>Early Bird</td>\n",
       "      <td>100000</td>\n",
       "      <td>44.9</td>\n",
       "      <td>247.4</td>\n",
       "      <td>126.500000</td>\n",
       "    </tr>\n",
       "    <tr>\n",
       "      <th>3</th>\n",
       "      <td>Early Bird</td>\n",
       "      <td>100001</td>\n",
       "      <td>22.0</td>\n",
       "      <td>165.0</td>\n",
       "      <td>87.900000</td>\n",
       "    </tr>\n",
       "    <tr>\n",
       "      <th>4</th>\n",
       "      <td>Early Bird</td>\n",
       "      <td>100003</td>\n",
       "      <td>130.9</td>\n",
       "      <td>130.9</td>\n",
       "      <td>130.900000</td>\n",
       "    </tr>\n",
       "    <tr>\n",
       "      <th>...</th>\n",
       "      <td>...</td>\n",
       "      <td>...</td>\n",
       "      <td>...</td>\n",
       "      <td>...</td>\n",
       "      <td>...</td>\n",
       "    </tr>\n",
       "    <tr>\n",
       "      <th>380622</th>\n",
       "      <td>Regular</td>\n",
       "      <td>99995</td>\n",
       "      <td>42.6</td>\n",
       "      <td>132.5</td>\n",
       "      <td>79.580000</td>\n",
       "    </tr>\n",
       "    <tr>\n",
       "      <th>380623</th>\n",
       "      <td>Regular</td>\n",
       "      <td>99996</td>\n",
       "      <td>2.8</td>\n",
       "      <td>127.1</td>\n",
       "      <td>75.118182</td>\n",
       "    </tr>\n",
       "    <tr>\n",
       "      <th>380624</th>\n",
       "      <td>Regular</td>\n",
       "      <td>99997</td>\n",
       "      <td>31.6</td>\n",
       "      <td>145.5</td>\n",
       "      <td>95.500000</td>\n",
       "    </tr>\n",
       "    <tr>\n",
       "      <th>380625</th>\n",
       "      <td>Regular</td>\n",
       "      <td>99998</td>\n",
       "      <td>20.8</td>\n",
       "      <td>51.2</td>\n",
       "      <td>38.020000</td>\n",
       "    </tr>\n",
       "    <tr>\n",
       "      <th>380626</th>\n",
       "      <td>Regular</td>\n",
       "      <td>99999</td>\n",
       "      <td>9.9</td>\n",
       "      <td>159.7</td>\n",
       "      <td>76.044000</td>\n",
       "    </tr>\n",
       "  </tbody>\n",
       "</table>\n",
       "<p>380627 rows × 5 columns</p>\n",
       "</div>"
      ],
      "text/plain": [
       "       shopping_behavior user_id    min    max        mean\n",
       "0             Early Bird       1   25.0   63.1   36.220000\n",
       "1             Early Bird   10000   11.8  272.3  140.345455\n",
       "2             Early Bird  100000   44.9  247.4  126.500000\n",
       "3             Early Bird  100001   22.0  165.0   87.900000\n",
       "4             Early Bird  100003  130.9  130.9  130.900000\n",
       "...                  ...     ...    ...    ...         ...\n",
       "380622           Regular   99995   42.6  132.5   79.580000\n",
       "380623           Regular   99996    2.8  127.1   75.118182\n",
       "380624           Regular   99997   31.6  145.5   95.500000\n",
       "380625           Regular   99998   20.8   51.2   38.020000\n",
       "380626           Regular   99999    9.9  159.7   76.044000\n",
       "\n",
       "[380627 rows x 5 columns]"
      ]
     },
     "execution_count": 35,
     "metadata": {},
     "output_type": "execute_result"
    }
   ],
   "source": [
    "# View the expenditure statistics for each customer\n",
    "behavior_shopper_total"
   ]
  },
  {
   "cell_type": "code",
   "execution_count": 36,
   "id": "8c0cd1cb",
   "metadata": {},
   "outputs": [],
   "source": [
    "# Find the expenditure statistics for each behavior flag\n",
    "behavior_price_stats = behavior_shopper_total.groupby('shopping_behavior').agg({'min':'min', 'max':'max', 'mean':'mean'}).reset_index()"
   ]
  },
  {
   "cell_type": "code",
   "execution_count": 37,
   "id": "bb2f04ea",
   "metadata": {},
   "outputs": [
    {
     "data": {
      "text/html": [
       "<div>\n",
       "<style scoped>\n",
       "    .dataframe tbody tr th:only-of-type {\n",
       "        vertical-align: middle;\n",
       "    }\n",
       "\n",
       "    .dataframe tbody tr th {\n",
       "        vertical-align: top;\n",
       "    }\n",
       "\n",
       "    .dataframe thead th {\n",
       "        text-align: right;\n",
       "    }\n",
       "</style>\n",
       "<table border=\"1\" class=\"dataframe\">\n",
       "  <thead>\n",
       "    <tr style=\"text-align: right;\">\n",
       "      <th></th>\n",
       "      <th>shopping_behavior</th>\n",
       "      <th>min</th>\n",
       "      <th>max</th>\n",
       "      <th>mean</th>\n",
       "    </tr>\n",
       "  </thead>\n",
       "  <tbody>\n",
       "    <tr>\n",
       "      <th>0</th>\n",
       "      <td>Early Bird</td>\n",
       "      <td>1.0</td>\n",
       "      <td>100275.7</td>\n",
       "      <td>127.692072</td>\n",
       "    </tr>\n",
       "    <tr>\n",
       "      <th>1</th>\n",
       "      <td>Night Owl</td>\n",
       "      <td>1.0</td>\n",
       "      <td>100290.2</td>\n",
       "      <td>122.828686</td>\n",
       "    </tr>\n",
       "    <tr>\n",
       "      <th>2</th>\n",
       "      <td>Regular</td>\n",
       "      <td>1.0</td>\n",
       "      <td>100452.9</td>\n",
       "      <td>126.661767</td>\n",
       "    </tr>\n",
       "  </tbody>\n",
       "</table>\n",
       "</div>"
      ],
      "text/plain": [
       "  shopping_behavior  min       max        mean\n",
       "0        Early Bird  1.0  100275.7  127.692072\n",
       "1         Night Owl  1.0  100290.2  122.828686\n",
       "2           Regular  1.0  100452.9  126.661767"
      ]
     },
     "execution_count": 37,
     "metadata": {},
     "output_type": "execute_result"
    }
   ],
   "source": [
    "# View expenditure statistics for each behavior flag\n",
    "behavior_price_stats"
   ]
  },
  {
   "cell_type": "code",
   "execution_count": 38,
   "id": "e20e7ae6",
   "metadata": {},
   "outputs": [
    {
     "data": {
      "image/png": "[encoded data removed]",
      "text/plain": [
       "<Figure size 640x480 with 1 Axes>"
      ]
     },
     "metadata": {},
     "output_type": "display_data"
    }
   ],
   "source": [
    "# Create bar chart for average order expense per shopping behavior\n",
    "# Create table with average order expense\n",
    "behavior_price_bar = sns.barplot(x= 'shopping_behavior', y = 'mean', data = behavior_price_stats, palette = ['#b03671', '#d576a4','#e8b5ce'])\n",
    "# Adjust plot size\n",
    "plt.subplots_adjust(bottom = 0.2)\n",
    "# Add axis and title labels\n",
    "plt.xlabel('shopping Behavior')\n",
    "plt.ylabel('Average Expenditure')\n",
    "plt.title('Average Expenditure per Shopping Behavior')\n",
    "# Add x tick labels, position adjusted\n",
    "plt.xticks(rotation = 45, ha = 'right')\n",
    "# Save Bar Chart\n",
    "plt.savefig( 'behavior_price_bar.png')"
   ]
  },
  {
   "cell_type": "code",
   "execution_count": 39,
   "id": "b2d31056",
   "metadata": {},
   "outputs": [],
   "source": [
    "# Create a crosstable with shopping behavior and department id\n",
    "behavior_dep_cross = pd.crosstab(instacart['department_id'],instacart['shopping_behavior'], dropna = False)"
   ]
  },
  {
   "cell_type": "code",
   "execution_count": 40,
   "id": "c2e5ee35",
   "metadata": {},
   "outputs": [
    {
     "data": {
      "text/html": [
       "<div>\n",
       "<style scoped>\n",
       "    .dataframe tbody tr th:only-of-type {\n",
       "        vertical-align: middle;\n",
       "    }\n",
       "\n",
       "    .dataframe tbody tr th {\n",
       "        vertical-align: top;\n",
       "    }\n",
       "\n",
       "    .dataframe thead th {\n",
       "        text-align: right;\n",
       "    }\n",
       "</style>\n",
       "<table border=\"1\" class=\"dataframe\">\n",
       "  <thead>\n",
       "    <tr style=\"text-align: right;\">\n",
       "      <th>shopping_behavior</th>\n",
       "      <th>Early Bird</th>\n",
       "      <th>Night Owl</th>\n",
       "      <th>Regular</th>\n",
       "    </tr>\n",
       "    <tr>\n",
       "      <th>department_id</th>\n",
       "      <th></th>\n",
       "      <th></th>\n",
       "      <th></th>\n",
       "    </tr>\n",
       "  </thead>\n",
       "  <tbody>\n",
       "    <tr>\n",
       "      <th>1</th>\n",
       "      <td>187469</td>\n",
       "      <td>163765</td>\n",
       "      <td>1883509</td>\n",
       "    </tr>\n",
       "    <tr>\n",
       "      <th>2</th>\n",
       "      <td>3154</td>\n",
       "      <td>2582</td>\n",
       "      <td>30555</td>\n",
       "    </tr>\n",
       "    <tr>\n",
       "      <th>3</th>\n",
       "      <td>111607</td>\n",
       "      <td>78883</td>\n",
       "      <td>981938</td>\n",
       "    </tr>\n",
       "    <tr>\n",
       "      <th>4</th>\n",
       "      <td>893539</td>\n",
       "      <td>729649</td>\n",
       "      <td>7856103</td>\n",
       "    </tr>\n",
       "    <tr>\n",
       "      <th>5</th>\n",
       "      <td>8351</td>\n",
       "      <td>5755</td>\n",
       "      <td>139590</td>\n",
       "    </tr>\n",
       "    <tr>\n",
       "      <th>6</th>\n",
       "      <td>21936</td>\n",
       "      <td>20081</td>\n",
       "      <td>227236</td>\n",
       "    </tr>\n",
       "    <tr>\n",
       "      <th>7</th>\n",
       "      <td>239403</td>\n",
       "      <td>172382</td>\n",
       "      <td>2276338</td>\n",
       "    </tr>\n",
       "    <tr>\n",
       "      <th>8</th>\n",
       "      <td>8292</td>\n",
       "      <td>6319</td>\n",
       "      <td>83105</td>\n",
       "    </tr>\n",
       "    <tr>\n",
       "      <th>9</th>\n",
       "      <td>75871</td>\n",
       "      <td>63823</td>\n",
       "      <td>726933</td>\n",
       "    </tr>\n",
       "    <tr>\n",
       "      <th>10</th>\n",
       "      <td>3132</td>\n",
       "      <td>2713</td>\n",
       "      <td>28728</td>\n",
       "    </tr>\n",
       "    <tr>\n",
       "      <th>11</th>\n",
       "      <td>40902</td>\n",
       "      <td>32537</td>\n",
       "      <td>374133</td>\n",
       "    </tr>\n",
       "    <tr>\n",
       "      <th>12</th>\n",
       "      <td>64414</td>\n",
       "      <td>50231</td>\n",
       "      <td>594282</td>\n",
       "    </tr>\n",
       "    <tr>\n",
       "      <th>13</th>\n",
       "      <td>162905</td>\n",
       "      <td>140701</td>\n",
       "      <td>1571763</td>\n",
       "    </tr>\n",
       "    <tr>\n",
       "      <th>14</th>\n",
       "      <td>71223</td>\n",
       "      <td>49871</td>\n",
       "      <td>581939</td>\n",
       "    </tr>\n",
       "    <tr>\n",
       "      <th>15</th>\n",
       "      <td>91664</td>\n",
       "      <td>78533</td>\n",
       "      <td>897861</td>\n",
       "    </tr>\n",
       "    <tr>\n",
       "      <th>16</th>\n",
       "      <td>531558</td>\n",
       "      <td>385481</td>\n",
       "      <td>4481708</td>\n",
       "    </tr>\n",
       "    <tr>\n",
       "      <th>17</th>\n",
       "      <td>69647</td>\n",
       "      <td>51935</td>\n",
       "      <td>617084</td>\n",
       "    </tr>\n",
       "    <tr>\n",
       "      <th>18</th>\n",
       "      <td>51579</td>\n",
       "      <td>36019</td>\n",
       "      <td>336204</td>\n",
       "    </tr>\n",
       "    <tr>\n",
       "      <th>19</th>\n",
       "      <td>252829</td>\n",
       "      <td>190451</td>\n",
       "      <td>2444270</td>\n",
       "    </tr>\n",
       "    <tr>\n",
       "      <th>20</th>\n",
       "      <td>92006</td>\n",
       "      <td>73443</td>\n",
       "      <td>885800</td>\n",
       "    </tr>\n",
       "    <tr>\n",
       "      <th>21</th>\n",
       "      <td>6145</td>\n",
       "      <td>5391</td>\n",
       "      <td>57609</td>\n",
       "    </tr>\n",
       "  </tbody>\n",
       "</table>\n",
       "</div>"
      ],
      "text/plain": [
       "shopping_behavior  Early Bird  Night Owl  Regular\n",
       "department_id                                    \n",
       "1                      187469     163765  1883509\n",
       "2                        3154       2582    30555\n",
       "3                      111607      78883   981938\n",
       "4                      893539     729649  7856103\n",
       "5                        8351       5755   139590\n",
       "6                       21936      20081   227236\n",
       "7                      239403     172382  2276338\n",
       "8                        8292       6319    83105\n",
       "9                       75871      63823   726933\n",
       "10                       3132       2713    28728\n",
       "11                      40902      32537   374133\n",
       "12                      64414      50231   594282\n",
       "13                     162905     140701  1571763\n",
       "14                      71223      49871   581939\n",
       "15                      91664      78533   897861\n",
       "16                     531558     385481  4481708\n",
       "17                      69647      51935   617084\n",
       "18                      51579      36019   336204\n",
       "19                     252829     190451  2444270\n",
       "20                      92006      73443   885800\n",
       "21                       6145       5391    57609"
      ]
     },
     "execution_count": 40,
     "metadata": {},
     "output_type": "execute_result"
    }
   ],
   "source": [
    "# View crosstable\n",
    "behavior_dep_cross"
   ]
  },
  {
   "cell_type": "code",
   "execution_count": 41,
   "id": "d980fb9a",
   "metadata": {},
   "outputs": [],
   "source": [
    "# Create long table to use for clustered bar graph\n",
    "dep_behavior_long = behavior_dep_cross.reset_index().melt(id_vars='department_id', var_name='shopping_behavior', value_name='count')"
   ]
  },
  {
   "cell_type": "code",
   "execution_count": 42,
   "id": "1f38cbef",
   "metadata": {},
   "outputs": [
    {
     "data": {
      "image/png": "[encoded data removed]",
      "text/plain": [
       "<Figure size 640x480 with 1 Axes>"
      ]
     },
     "metadata": {},
     "output_type": "display_data"
    }
   ],
   "source": [
    "# Create clustered bar graph for shopping behavior and department\n",
    "dep_beh_bar = sns.barplot(x = 'department_id', y = 'count', hue = 'shopping_behavior', data = dep_behavior_long, palette = ['#b03671', '#d576a4','#e8b5ce'])"
   ]
  },
  {
   "cell_type": "code",
   "execution_count": 43,
   "id": "d1154c37",
   "metadata": {},
   "outputs": [
    {
     "data": {
      "image/png": "[encoded data removed]",
      "text/plain": [
       "<Figure size 640x480 with 1 Axes>"
      ]
     },
     "metadata": {},
     "output_type": "display_data"
    }
   ],
   "source": [
    "# Create stacked line chart for number of orders per department per shopping behavior with color\n",
    "beh_dep_line = behavior_dep_cross.plot(kind = 'line', stacked = True, color = ['#b03671', '#d576a4','#e8b5ce'])\n",
    "# Adjust plot size\n",
    "plt.subplots_adjust(bottom = 0.2)\n",
    "# Add axis and title labels\n",
    "plt.title('Order Timing Relationship to Department')\n",
    "plt.xlabel('Department ID')\n",
    "plt.ylabel('Number of Orders')\n",
    "# Add x tick mark labels, position adjusted\n",
    "plt.xticks(rotation = 45, ha = 'right')\n",
    "# Add legend title\n",
    "plt.legend(title = 'Shopping Behavior')\n",
    "# Save Stacked Line Chart\n",
    "plt.savefig( 'behavior_dep_bar.png')"
   ]
  },
  {
   "cell_type": "code",
   "execution_count": 44,
   "id": "c54aefc3",
   "metadata": {},
   "outputs": [],
   "source": [
    "# Create crosstab with shopping behavior, region, and department\n",
    "behavior_reg_dep_cross = pd.crosstab(index = [instacart['Region'], instacart['shopping_behavior']],\n",
    "                                    columns = instacart['department_id'], dropna = False)"
   ]
  },
  {
   "cell_type": "code",
   "execution_count": 45,
   "id": "e58e16c6",
   "metadata": {},
   "outputs": [
    {
     "data": {
      "text/html": [
       "<div>\n",
       "<style scoped>\n",
       "    .dataframe tbody tr th:only-of-type {\n",
       "        vertical-align: middle;\n",
       "    }\n",
       "\n",
       "    .dataframe tbody tr th {\n",
       "        vertical-align: top;\n",
       "    }\n",
       "\n",
       "    .dataframe thead th {\n",
       "        text-align: right;\n",
       "    }\n",
       "</style>\n",
       "<table border=\"1\" class=\"dataframe\">\n",
       "  <thead>\n",
       "    <tr style=\"text-align: right;\">\n",
       "      <th></th>\n",
       "      <th>department_id</th>\n",
       "      <th>1</th>\n",
       "      <th>2</th>\n",
       "      <th>3</th>\n",
       "      <th>4</th>\n",
       "      <th>5</th>\n",
       "      <th>6</th>\n",
       "      <th>7</th>\n",
       "      <th>8</th>\n",
       "      <th>9</th>\n",
       "      <th>10</th>\n",
       "      <th>...</th>\n",
       "      <th>12</th>\n",
       "      <th>13</th>\n",
       "      <th>14</th>\n",
       "      <th>15</th>\n",
       "      <th>16</th>\n",
       "      <th>17</th>\n",
       "      <th>18</th>\n",
       "      <th>19</th>\n",
       "      <th>20</th>\n",
       "      <th>21</th>\n",
       "    </tr>\n",
       "    <tr>\n",
       "      <th>Region</th>\n",
       "      <th>shopping_behavior</th>\n",
       "      <th></th>\n",
       "      <th></th>\n",
       "      <th></th>\n",
       "      <th></th>\n",
       "      <th></th>\n",
       "      <th></th>\n",
       "      <th></th>\n",
       "      <th></th>\n",
       "      <th></th>\n",
       "      <th></th>\n",
       "      <th></th>\n",
       "      <th></th>\n",
       "      <th></th>\n",
       "      <th></th>\n",
       "      <th></th>\n",
       "      <th></th>\n",
       "      <th></th>\n",
       "      <th></th>\n",
       "      <th></th>\n",
       "      <th></th>\n",
       "      <th></th>\n",
       "    </tr>\n",
       "  </thead>\n",
       "  <tbody>\n",
       "    <tr>\n",
       "      <th rowspan=\"3\" valign=\"top\">Midwest</th>\n",
       "      <th>Early Bird</th>\n",
       "      <td>43526</td>\n",
       "      <td>757</td>\n",
       "      <td>25942</td>\n",
       "      <td>206995</td>\n",
       "      <td>1951</td>\n",
       "      <td>5119</td>\n",
       "      <td>55226</td>\n",
       "      <td>1787</td>\n",
       "      <td>17558</td>\n",
       "      <td>747</td>\n",
       "      <td>...</td>\n",
       "      <td>14757</td>\n",
       "      <td>38216</td>\n",
       "      <td>16407</td>\n",
       "      <td>21294</td>\n",
       "      <td>123708</td>\n",
       "      <td>16297</td>\n",
       "      <td>11729</td>\n",
       "      <td>59088</td>\n",
       "      <td>21329</td>\n",
       "      <td>1496</td>\n",
       "    </tr>\n",
       "    <tr>\n",
       "      <th>Night Owl</th>\n",
       "      <td>38992</td>\n",
       "      <td>613</td>\n",
       "      <td>18825</td>\n",
       "      <td>172218</td>\n",
       "      <td>1247</td>\n",
       "      <td>4804</td>\n",
       "      <td>40364</td>\n",
       "      <td>1700</td>\n",
       "      <td>15085</td>\n",
       "      <td>644</td>\n",
       "      <td>...</td>\n",
       "      <td>11841</td>\n",
       "      <td>33235</td>\n",
       "      <td>11700</td>\n",
       "      <td>18723</td>\n",
       "      <td>91031</td>\n",
       "      <td>12507</td>\n",
       "      <td>8736</td>\n",
       "      <td>44147</td>\n",
       "      <td>17364</td>\n",
       "      <td>1295</td>\n",
       "    </tr>\n",
       "    <tr>\n",
       "      <th>Regular</th>\n",
       "      <td>441578</td>\n",
       "      <td>7050</td>\n",
       "      <td>229102</td>\n",
       "      <td>1848724</td>\n",
       "      <td>32988</td>\n",
       "      <td>53813</td>\n",
       "      <td>529984</td>\n",
       "      <td>18868</td>\n",
       "      <td>171126</td>\n",
       "      <td>6802</td>\n",
       "      <td>...</td>\n",
       "      <td>139531</td>\n",
       "      <td>370650</td>\n",
       "      <td>135444</td>\n",
       "      <td>210685</td>\n",
       "      <td>1049484</td>\n",
       "      <td>147020</td>\n",
       "      <td>78518</td>\n",
       "      <td>570480</td>\n",
       "      <td>206985</td>\n",
       "      <td>13744</td>\n",
       "    </tr>\n",
       "    <tr>\n",
       "      <th rowspan=\"3\" valign=\"top\">Northeast</th>\n",
       "      <th>Early Bird</th>\n",
       "      <td>32070</td>\n",
       "      <td>567</td>\n",
       "      <td>19912</td>\n",
       "      <td>156973</td>\n",
       "      <td>1413</td>\n",
       "      <td>3811</td>\n",
       "      <td>43529</td>\n",
       "      <td>1765</td>\n",
       "      <td>13306</td>\n",
       "      <td>571</td>\n",
       "      <td>...</td>\n",
       "      <td>11302</td>\n",
       "      <td>28181</td>\n",
       "      <td>13180</td>\n",
       "      <td>16170</td>\n",
       "      <td>95697</td>\n",
       "      <td>12383</td>\n",
       "      <td>9489</td>\n",
       "      <td>45231</td>\n",
       "      <td>16371</td>\n",
       "      <td>1093</td>\n",
       "    </tr>\n",
       "    <tr>\n",
       "      <th>Night Owl</th>\n",
       "      <td>29336</td>\n",
       "      <td>452</td>\n",
       "      <td>14242</td>\n",
       "      <td>131486</td>\n",
       "      <td>1021</td>\n",
       "      <td>3394</td>\n",
       "      <td>32230</td>\n",
       "      <td>1124</td>\n",
       "      <td>11350</td>\n",
       "      <td>466</td>\n",
       "      <td>...</td>\n",
       "      <td>9064</td>\n",
       "      <td>24865</td>\n",
       "      <td>8765</td>\n",
       "      <td>13861</td>\n",
       "      <td>69200</td>\n",
       "      <td>9084</td>\n",
       "      <td>6359</td>\n",
       "      <td>34691</td>\n",
       "      <td>13323</td>\n",
       "      <td>989</td>\n",
       "    </tr>\n",
       "    <tr>\n",
       "      <th>Regular</th>\n",
       "      <td>329512</td>\n",
       "      <td>5566</td>\n",
       "      <td>174445</td>\n",
       "      <td>1377380</td>\n",
       "      <td>24108</td>\n",
       "      <td>39686</td>\n",
       "      <td>407659</td>\n",
       "      <td>15712</td>\n",
       "      <td>127160</td>\n",
       "      <td>4765</td>\n",
       "      <td>...</td>\n",
       "      <td>104254</td>\n",
       "      <td>276399</td>\n",
       "      <td>101629</td>\n",
       "      <td>156724</td>\n",
       "      <td>789129</td>\n",
       "      <td>110018</td>\n",
       "      <td>59291</td>\n",
       "      <td>434753</td>\n",
       "      <td>157123</td>\n",
       "      <td>10292</td>\n",
       "    </tr>\n",
       "    <tr>\n",
       "      <th rowspan=\"3\" valign=\"top\">South</th>\n",
       "      <th>Early Bird</th>\n",
       "      <td>64185</td>\n",
       "      <td>1043</td>\n",
       "      <td>37631</td>\n",
       "      <td>302465</td>\n",
       "      <td>2885</td>\n",
       "      <td>7374</td>\n",
       "      <td>80897</td>\n",
       "      <td>2575</td>\n",
       "      <td>25668</td>\n",
       "      <td>1050</td>\n",
       "      <td>...</td>\n",
       "      <td>21845</td>\n",
       "      <td>54928</td>\n",
       "      <td>23332</td>\n",
       "      <td>30803</td>\n",
       "      <td>177657</td>\n",
       "      <td>22988</td>\n",
       "      <td>17865</td>\n",
       "      <td>84209</td>\n",
       "      <td>31075</td>\n",
       "      <td>2093</td>\n",
       "    </tr>\n",
       "    <tr>\n",
       "      <th>Night Owl</th>\n",
       "      <td>54598</td>\n",
       "      <td>894</td>\n",
       "      <td>26014</td>\n",
       "      <td>243053</td>\n",
       "      <td>2020</td>\n",
       "      <td>6821</td>\n",
       "      <td>57485</td>\n",
       "      <td>1812</td>\n",
       "      <td>21056</td>\n",
       "      <td>879</td>\n",
       "      <td>...</td>\n",
       "      <td>16794</td>\n",
       "      <td>47086</td>\n",
       "      <td>16603</td>\n",
       "      <td>26011</td>\n",
       "      <td>127630</td>\n",
       "      <td>17031</td>\n",
       "      <td>12383</td>\n",
       "      <td>64034</td>\n",
       "      <td>24135</td>\n",
       "      <td>1786</td>\n",
       "    </tr>\n",
       "    <tr>\n",
       "      <th>Regular</th>\n",
       "      <td>629117</td>\n",
       "      <td>10275</td>\n",
       "      <td>325170</td>\n",
       "      <td>2615033</td>\n",
       "      <td>46719</td>\n",
       "      <td>74947</td>\n",
       "      <td>760558</td>\n",
       "      <td>26882</td>\n",
       "      <td>240720</td>\n",
       "      <td>9604</td>\n",
       "      <td>...</td>\n",
       "      <td>197113</td>\n",
       "      <td>520422</td>\n",
       "      <td>194316</td>\n",
       "      <td>299201</td>\n",
       "      <td>1491682</td>\n",
       "      <td>203051</td>\n",
       "      <td>113406</td>\n",
       "      <td>809103</td>\n",
       "      <td>294209</td>\n",
       "      <td>19314</td>\n",
       "    </tr>\n",
       "    <tr>\n",
       "      <th rowspan=\"3\" valign=\"top\">West</th>\n",
       "      <th>Early Bird</th>\n",
       "      <td>47688</td>\n",
       "      <td>787</td>\n",
       "      <td>28122</td>\n",
       "      <td>227106</td>\n",
       "      <td>2102</td>\n",
       "      <td>5632</td>\n",
       "      <td>59751</td>\n",
       "      <td>2165</td>\n",
       "      <td>19339</td>\n",
       "      <td>764</td>\n",
       "      <td>...</td>\n",
       "      <td>16510</td>\n",
       "      <td>41580</td>\n",
       "      <td>18304</td>\n",
       "      <td>23397</td>\n",
       "      <td>134496</td>\n",
       "      <td>17979</td>\n",
       "      <td>12496</td>\n",
       "      <td>64301</td>\n",
       "      <td>23231</td>\n",
       "      <td>1463</td>\n",
       "    </tr>\n",
       "    <tr>\n",
       "      <th>Night Owl</th>\n",
       "      <td>40839</td>\n",
       "      <td>623</td>\n",
       "      <td>19802</td>\n",
       "      <td>182892</td>\n",
       "      <td>1467</td>\n",
       "      <td>5062</td>\n",
       "      <td>42303</td>\n",
       "      <td>1683</td>\n",
       "      <td>16332</td>\n",
       "      <td>724</td>\n",
       "      <td>...</td>\n",
       "      <td>12532</td>\n",
       "      <td>35515</td>\n",
       "      <td>12803</td>\n",
       "      <td>19938</td>\n",
       "      <td>97620</td>\n",
       "      <td>13313</td>\n",
       "      <td>8541</td>\n",
       "      <td>47579</td>\n",
       "      <td>18621</td>\n",
       "      <td>1321</td>\n",
       "    </tr>\n",
       "    <tr>\n",
       "      <th>Regular</th>\n",
       "      <td>483302</td>\n",
       "      <td>7664</td>\n",
       "      <td>253221</td>\n",
       "      <td>2014966</td>\n",
       "      <td>35775</td>\n",
       "      <td>58790</td>\n",
       "      <td>578137</td>\n",
       "      <td>21643</td>\n",
       "      <td>187927</td>\n",
       "      <td>7557</td>\n",
       "      <td>...</td>\n",
       "      <td>153384</td>\n",
       "      <td>404292</td>\n",
       "      <td>150550</td>\n",
       "      <td>231251</td>\n",
       "      <td>1151413</td>\n",
       "      <td>156995</td>\n",
       "      <td>84989</td>\n",
       "      <td>629934</td>\n",
       "      <td>227483</td>\n",
       "      <td>14259</td>\n",
       "    </tr>\n",
       "  </tbody>\n",
       "</table>\n",
       "<p>12 rows × 21 columns</p>\n",
       "</div>"
      ],
      "text/plain": [
       "department_id                    1      2       3        4      5      6   \\\n",
       "Region    shopping_behavior                                                 \n",
       "Midwest   Early Bird          43526    757   25942   206995   1951   5119   \n",
       "          Night Owl           38992    613   18825   172218   1247   4804   \n",
       "          Regular            441578   7050  229102  1848724  32988  53813   \n",
       "Northeast Early Bird          32070    567   19912   156973   1413   3811   \n",
       "          Night Owl           29336    452   14242   131486   1021   3394   \n",
       "          Regular            329512   5566  174445  1377380  24108  39686   \n",
       "South     Early Bird          64185   1043   37631   302465   2885   7374   \n",
       "          Night Owl           54598    894   26014   243053   2020   6821   \n",
       "          Regular            629117  10275  325170  2615033  46719  74947   \n",
       "West      Early Bird          47688    787   28122   227106   2102   5632   \n",
       "          Night Owl           40839    623   19802   182892   1467   5062   \n",
       "          Regular            483302   7664  253221  2014966  35775  58790   \n",
       "\n",
       "department_id                    7      8       9     10  ...      12      13  \\\n",
       "Region    shopping_behavior                               ...                   \n",
       "Midwest   Early Bird          55226   1787   17558   747  ...   14757   38216   \n",
       "          Night Owl           40364   1700   15085   644  ...   11841   33235   \n",
       "          Regular            529984  18868  171126  6802  ...  139531  370650   \n",
       "Northeast Early Bird          43529   1765   13306   571  ...   11302   28181   \n",
       "          Night Owl           32230   1124   11350   466  ...    9064   24865   \n",
       "          Regular            407659  15712  127160  4765  ...  104254  276399   \n",
       "South     Early Bird          80897   2575   25668  1050  ...   21845   54928   \n",
       "          Night Owl           57485   1812   21056   879  ...   16794   47086   \n",
       "          Regular            760558  26882  240720  9604  ...  197113  520422   \n",
       "West      Early Bird          59751   2165   19339   764  ...   16510   41580   \n",
       "          Night Owl           42303   1683   16332   724  ...   12532   35515   \n",
       "          Regular            578137  21643  187927  7557  ...  153384  404292   \n",
       "\n",
       "department_id                    14      15       16      17      18      19  \\\n",
       "Region    shopping_behavior                                                    \n",
       "Midwest   Early Bird          16407   21294   123708   16297   11729   59088   \n",
       "          Night Owl           11700   18723    91031   12507    8736   44147   \n",
       "          Regular            135444  210685  1049484  147020   78518  570480   \n",
       "Northeast Early Bird          13180   16170    95697   12383    9489   45231   \n",
       "          Night Owl            8765   13861    69200    9084    6359   34691   \n",
       "          Regular            101629  156724   789129  110018   59291  434753   \n",
       "South     Early Bird          23332   30803   177657   22988   17865   84209   \n",
       "          Night Owl           16603   26011   127630   17031   12383   64034   \n",
       "          Regular            194316  299201  1491682  203051  113406  809103   \n",
       "West      Early Bird          18304   23397   134496   17979   12496   64301   \n",
       "          Night Owl           12803   19938    97620   13313    8541   47579   \n",
       "          Regular            150550  231251  1151413  156995   84989  629934   \n",
       "\n",
       "department_id                    20     21  \n",
       "Region    shopping_behavior                 \n",
       "Midwest   Early Bird          21329   1496  \n",
       "          Night Owl           17364   1295  \n",
       "          Regular            206985  13744  \n",
       "Northeast Early Bird          16371   1093  \n",
       "          Night Owl           13323    989  \n",
       "          Regular            157123  10292  \n",
       "South     Early Bird          31075   2093  \n",
       "          Night Owl           24135   1786  \n",
       "          Regular            294209  19314  \n",
       "West      Early Bird          23231   1463  \n",
       "          Night Owl           18621   1321  \n",
       "          Regular            227483  14259  \n",
       "\n",
       "[12 rows x 21 columns]"
      ]
     },
     "execution_count": 45,
     "metadata": {},
     "output_type": "execute_result"
    }
   ],
   "source": [
    "# View crosstable\n",
    "behavior_reg_dep_cross"
   ]
  },
  {
   "cell_type": "code",
   "execution_count": 46,
   "id": "e0022faf",
   "metadata": {},
   "outputs": [],
   "source": [
    "# Create a crosstable with shopping behavior and region\n",
    "reg_behavior_cross = pd.crosstab(instacart['Region'], instacart['shopping_behavior'])"
   ]
  },
  {
   "cell_type": "code",
   "execution_count": 47,
   "id": "78cff79b",
   "metadata": {},
   "outputs": [
    {
     "data": {
      "text/html": [
       "<div>\n",
       "<style scoped>\n",
       "    .dataframe tbody tr th:only-of-type {\n",
       "        vertical-align: middle;\n",
       "    }\n",
       "\n",
       "    .dataframe tbody tr th {\n",
       "        vertical-align: top;\n",
       "    }\n",
       "\n",
       "    .dataframe thead th {\n",
       "        text-align: right;\n",
       "    }\n",
       "</style>\n",
       "<table border=\"1\" class=\"dataframe\">\n",
       "  <thead>\n",
       "    <tr style=\"text-align: right;\">\n",
       "      <th>shopping_behavior</th>\n",
       "      <th>Early Bird</th>\n",
       "      <th>Night Owl</th>\n",
       "      <th>Regular</th>\n",
       "    </tr>\n",
       "    <tr>\n",
       "      <th>Region</th>\n",
       "      <th></th>\n",
       "      <th></th>\n",
       "      <th></th>\n",
       "    </tr>\n",
       "  </thead>\n",
       "  <tbody>\n",
       "    <tr>\n",
       "      <th>Midwest</th>\n",
       "      <td>693568</td>\n",
       "      <td>552760</td>\n",
       "      <td>6350997</td>\n",
       "    </tr>\n",
       "    <tr>\n",
       "      <th>Northeast</th>\n",
       "      <td>530234</td>\n",
       "      <td>420857</td>\n",
       "      <td>4771645</td>\n",
       "    </tr>\n",
       "    <tr>\n",
       "      <th>South</th>\n",
       "      <td>1006323</td>\n",
       "      <td>779188</td>\n",
       "      <td>9006374</td>\n",
       "    </tr>\n",
       "    <tr>\n",
       "      <th>West</th>\n",
       "      <td>757501</td>\n",
       "      <td>587740</td>\n",
       "      <td>6947672</td>\n",
       "    </tr>\n",
       "  </tbody>\n",
       "</table>\n",
       "</div>"
      ],
      "text/plain": [
       "shopping_behavior  Early Bird  Night Owl  Regular\n",
       "Region                                           \n",
       "Midwest                693568     552760  6350997\n",
       "Northeast              530234     420857  4771645\n",
       "South                 1006323     779188  9006374\n",
       "West                   757501     587740  6947672"
      ]
     },
     "execution_count": 47,
     "metadata": {},
     "output_type": "execute_result"
    }
   ],
   "source": [
    "# View crosstable\n",
    "reg_behavior_cross"
   ]
  },
  {
   "cell_type": "code",
   "execution_count": 48,
   "id": "68539da5",
   "metadata": {},
   "outputs": [],
   "source": [
    "# Create long table for clustered bar graph\n",
    "reg_behavior_long = reg_behavior_cross.reset_index().melt(id_vars = 'Region', var_name = 'shopping_behavior', value_name = 'count')"
   ]
  },
  {
   "cell_type": "code",
   "execution_count": 49,
   "id": "fa0f40eb",
   "metadata": {},
   "outputs": [
    {
     "data": {
      "image/png": "[encoded data removed]",
      "text/plain": [
       "<Figure size 640x480 with 1 Axes>"
      ]
     },
     "metadata": {},
     "output_type": "display_data"
    }
   ],
   "source": [
    "# Create clustered bar graph for region and shopping behavior\n",
    "reg_beh_bar = sns.barplot(x = 'Region', y = 'count', hue = 'shopping_behavior', data = reg_behavior_long, palette = ['#b03671', '#d576a4','#e8b5ce'])\n",
    "\n",
    "# Add axis, title, and legend labels\n",
    "plt.xlabel('Region')\n",
    "plt.ylabel('Order Count')\n",
    "plt.title('Relationship between Order Timing and Order Number')\n",
    "plt.legend(title = 'shopping Behavior')\n",
    "# Save Clustered Bar Graph\n",
    "plt.savefig('behavior_region_bar.png')"
   ]
  },
  {
   "cell_type": "code",
   "execution_count": 50,
   "id": "6cb746a0",
   "metadata": {},
   "outputs": [
    {
     "data": {
      "text/plain": [
       "count    3.240486e+07\n",
       "mean     9.943773e+04\n",
       "std      4.305727e+04\n",
       "min      2.590300e+04\n",
       "25%      6.700400e+04\n",
       "50%      9.661800e+04\n",
       "75%      1.279120e+05\n",
       "max      5.939010e+05\n",
       "Name: income, dtype: float64"
      ]
     },
     "execution_count": 50,
     "metadata": {},
     "output_type": "execute_result"
    }
   ],
   "source": [
    "# Find statistics for customer incomes\n",
    "instacart['income'].describe()"
   ]
  },
  {
   "cell_type": "code",
   "execution_count": 51,
   "id": "ec7504df",
   "metadata": {},
   "outputs": [],
   "source": [
    "# Set the lifestyle flag for single, low-income\n",
    "# Low-income at or below 30k\n",
    "# Making the assumption that those living with parents and siblings are single\n",
    "instacart.loc[(instacart['marital_status'].isin(['single','divorced/widowed','living with parents and siblings'])) & (instacart['income'] <= 30000), 'lifestyle'] = 'Single, Low-income'"
   ]
  },
  {
   "cell_type": "code",
   "execution_count": 52,
   "id": "bebf2659",
   "metadata": {},
   "outputs": [],
   "source": [
    "# Set the lifestyle flag for single, middle-income\n",
    "# Middle-income set between 30k and 80k\n",
    "instacart.loc[(instacart['marital_status'].isin(['single','divorced/widowed','living with parents and siblings'])) & (instacart['income'] > 30000) & (instacart['income'] <= 80000), 'lifestyle'] = 'Single, Middle-income'"
   ]
  },
  {
   "cell_type": "code",
   "execution_count": 53,
   "id": "4d785741",
   "metadata": {},
   "outputs": [],
   "source": [
    "# Set the lifestyle flag for single, high-income\n",
    "# High-income set above 80k\n",
    "instacart.loc[(instacart['marital_status'].isin(['single','divorced/widowed','living with parents and siblings'])) & (instacart['income'] > 80000), 'lifestyle'] = 'Single, High-income'"
   ]
  },
  {
   "cell_type": "code",
   "execution_count": 54,
   "id": "7f0ab54c",
   "metadata": {},
   "outputs": [],
   "source": [
    "# Set the lifestyle flag for married, low-income\n",
    "# Low-income at or below 60k\n",
    "instacart.loc[(instacart['marital_status'] == 'married') & (instacart['income'] <= 60000), 'lifestyle'] = 'Married, Low-income'"
   ]
  },
  {
   "cell_type": "code",
   "execution_count": 55,
   "id": "1fcd9471",
   "metadata": {},
   "outputs": [],
   "source": [
    "# Set the lifestyle flag for married, middle-income\n",
    "# Middle-income set between 60k and 160k\n",
    "instacart.loc[(instacart['marital_status'] == 'married') & (instacart['income'] > 60000) & (instacart['income'] <= 160000), 'lifestyle'] = 'Married, Middle-income'"
   ]
  },
  {
   "cell_type": "code",
   "execution_count": 56,
   "id": "b058e09b",
   "metadata": {},
   "outputs": [],
   "source": [
    "# Set the lifestyle flag for married, high-income\n",
    "# High-income set above 160k\n",
    "instacart.loc[(instacart['marital_status'] == 'married') & (instacart['income'] > 160000), 'lifestyle'] = 'Married, High-income'"
   ]
  },
  {
   "cell_type": "code",
   "execution_count": 57,
   "id": "e6b799c2",
   "metadata": {},
   "outputs": [
    {
     "data": {
      "text/plain": [
       "lifestyle\n",
       "Married, Middle-income    16987834\n",
       "Single, High-income        5705569\n",
       "Married, Low-income        4137146\n",
       "Single, Middle-income      3865847\n",
       "Married, High-income       1631773\n",
       "Single, Low-income           76690\n",
       "Name: count, dtype: int64"
      ]
     },
     "execution_count": 57,
     "metadata": {},
     "output_type": "execute_result"
    }
   ],
   "source": [
    "# Find value counts for lifestyle flag to check complete assignment\n",
    "instacart['lifestyle'].value_counts(dropna = False)"
   ]
  },
  {
   "cell_type": "code",
   "execution_count": 58,
   "id": "70b82648",
   "metadata": {},
   "outputs": [
    {
     "data": {
      "image/png": "[encoded data removed]",
      "text/plain": [
       "<Figure size 640x480 with 1 Axes>"
      ]
     },
     "metadata": {},
     "output_type": "display_data"
    }
   ],
   "source": [
    "# Create bar graph for lifestyle flag\n",
    "lifestyle_bar = instacart['lifestyle'].value_counts().sort_index().plot.bar(color = ['#892a58','#b03671','#c94f8a','#d576a4','#e19dbe','#e8b5ce'])\n",
    "# Adjust plot size\n",
    "plt.subplots_adjust(bottom = 0.4)\n",
    "# Add axis, title labels\n",
    "plt.xlabel('Lifestyle')\n",
    "plt.ylabel('Order Counts')\n",
    "plt.title('Lifestyle Order Counts')\n",
    "# Add x tick labels, position adjusted\n",
    "plt.xticks(rotation = 45, ha = 'right')\n",
    "# Save Bar Graph\n",
    "plt.savefig( 'lifestyle_order_bar.png')"
   ]
  },
  {
   "cell_type": "code",
   "execution_count": 59,
   "id": "4ee11210",
   "metadata": {},
   "outputs": [],
   "source": [
    "# Calculate statistics for lifestyle flag\n",
    "lifestyle_order_stats = instacart.groupby('lifestyle')['order_number'].agg(['min','max','mean'])"
   ]
  },
  {
   "cell_type": "code",
   "execution_count": 60,
   "id": "0d99afef",
   "metadata": {},
   "outputs": [
    {
     "data": {
      "text/html": [
       "<div>\n",
       "<style scoped>\n",
       "    .dataframe tbody tr th:only-of-type {\n",
       "        vertical-align: middle;\n",
       "    }\n",
       "\n",
       "    .dataframe tbody tr th {\n",
       "        vertical-align: top;\n",
       "    }\n",
       "\n",
       "    .dataframe thead th {\n",
       "        text-align: right;\n",
       "    }\n",
       "</style>\n",
       "<table border=\"1\" class=\"dataframe\">\n",
       "  <thead>\n",
       "    <tr style=\"text-align: right;\">\n",
       "      <th></th>\n",
       "      <th>min</th>\n",
       "      <th>max</th>\n",
       "      <th>mean</th>\n",
       "    </tr>\n",
       "    <tr>\n",
       "      <th>lifestyle</th>\n",
       "      <th></th>\n",
       "      <th></th>\n",
       "      <th></th>\n",
       "    </tr>\n",
       "  </thead>\n",
       "  <tbody>\n",
       "    <tr>\n",
       "      <th>Married, High-income</th>\n",
       "      <td>1</td>\n",
       "      <td>99</td>\n",
       "      <td>17.650932</td>\n",
       "    </tr>\n",
       "    <tr>\n",
       "      <th>Married, Low-income</th>\n",
       "      <td>1</td>\n",
       "      <td>99</td>\n",
       "      <td>16.380485</td>\n",
       "    </tr>\n",
       "    <tr>\n",
       "      <th>Married, Middle-income</th>\n",
       "      <td>1</td>\n",
       "      <td>99</td>\n",
       "      <td>17.206611</td>\n",
       "    </tr>\n",
       "    <tr>\n",
       "      <th>Single, High-income</th>\n",
       "      <td>1</td>\n",
       "      <td>99</td>\n",
       "      <td>17.395931</td>\n",
       "    </tr>\n",
       "    <tr>\n",
       "      <th>Single, Low-income</th>\n",
       "      <td>1</td>\n",
       "      <td>99</td>\n",
       "      <td>14.434907</td>\n",
       "    </tr>\n",
       "    <tr>\n",
       "      <th>Single, Middle-income</th>\n",
       "      <td>1</td>\n",
       "      <td>99</td>\n",
       "      <td>17.139695</td>\n",
       "    </tr>\n",
       "  </tbody>\n",
       "</table>\n",
       "</div>"
      ],
      "text/plain": [
       "                        min  max       mean\n",
       "lifestyle                                  \n",
       "Married, High-income      1   99  17.650932\n",
       "Married, Low-income       1   99  16.380485\n",
       "Married, Middle-income    1   99  17.206611\n",
       "Single, High-income       1   99  17.395931\n",
       "Single, Low-income        1   99  14.434907\n",
       "Single, Middle-income     1   99  17.139695"
      ]
     },
     "execution_count": 60,
     "metadata": {},
     "output_type": "execute_result"
    }
   ],
   "source": [
    "# View table\n",
    "lifestyle_order_stats"
   ]
  },
  {
   "cell_type": "code",
   "execution_count": 61,
   "id": "e7094f41",
   "metadata": {},
   "outputs": [],
   "source": [
    "# Find the expenditure for each customer for each order\n",
    "lifestyle_order_totals = instacart.groupby(['lifestyle', 'user_id', 'order_number'])['prices'].sum().reset_index()"
   ]
  },
  {
   "cell_type": "code",
   "execution_count": 62,
   "id": "73c973dc",
   "metadata": {},
   "outputs": [
    {
     "data": {
      "text/html": [
       "<div>\n",
       "<style scoped>\n",
       "    .dataframe tbody tr th:only-of-type {\n",
       "        vertical-align: middle;\n",
       "    }\n",
       "\n",
       "    .dataframe tbody tr th {\n",
       "        vertical-align: top;\n",
       "    }\n",
       "\n",
       "    .dataframe thead th {\n",
       "        text-align: right;\n",
       "    }\n",
       "</style>\n",
       "<table border=\"1\" class=\"dataframe\">\n",
       "  <thead>\n",
       "    <tr style=\"text-align: right;\">\n",
       "      <th></th>\n",
       "      <th>lifestyle</th>\n",
       "      <th>user_id</th>\n",
       "      <th>order_number</th>\n",
       "      <th>prices</th>\n",
       "    </tr>\n",
       "  </thead>\n",
       "  <tbody>\n",
       "    <tr>\n",
       "      <th>0</th>\n",
       "      <td>Married, High-income</td>\n",
       "      <td>100018</td>\n",
       "      <td>1</td>\n",
       "      <td>66.2</td>\n",
       "    </tr>\n",
       "    <tr>\n",
       "      <th>1</th>\n",
       "      <td>Married, High-income</td>\n",
       "      <td>100018</td>\n",
       "      <td>2</td>\n",
       "      <td>143.1</td>\n",
       "    </tr>\n",
       "    <tr>\n",
       "      <th>2</th>\n",
       "      <td>Married, High-income</td>\n",
       "      <td>100018</td>\n",
       "      <td>3</td>\n",
       "      <td>32.5</td>\n",
       "    </tr>\n",
       "    <tr>\n",
       "      <th>3</th>\n",
       "      <td>Married, High-income</td>\n",
       "      <td>100018</td>\n",
       "      <td>4</td>\n",
       "      <td>29.2</td>\n",
       "    </tr>\n",
       "    <tr>\n",
       "      <th>4</th>\n",
       "      <td>Married, High-income</td>\n",
       "      <td>100018</td>\n",
       "      <td>5</td>\n",
       "      <td>58.2</td>\n",
       "    </tr>\n",
       "    <tr>\n",
       "      <th>...</th>\n",
       "      <td>...</td>\n",
       "      <td>...</td>\n",
       "      <td>...</td>\n",
       "      <td>...</td>\n",
       "    </tr>\n",
       "    <tr>\n",
       "      <th>3214680</th>\n",
       "      <td>Single, Middle-income</td>\n",
       "      <td>99993</td>\n",
       "      <td>19</td>\n",
       "      <td>72.2</td>\n",
       "    </tr>\n",
       "    <tr>\n",
       "      <th>3214681</th>\n",
       "      <td>Single, Middle-income</td>\n",
       "      <td>99993</td>\n",
       "      <td>20</td>\n",
       "      <td>81.4</td>\n",
       "    </tr>\n",
       "    <tr>\n",
       "      <th>3214682</th>\n",
       "      <td>Single, Middle-income</td>\n",
       "      <td>99993</td>\n",
       "      <td>21</td>\n",
       "      <td>60.7</td>\n",
       "    </tr>\n",
       "    <tr>\n",
       "      <th>3214683</th>\n",
       "      <td>Single, Middle-income</td>\n",
       "      <td>99993</td>\n",
       "      <td>22</td>\n",
       "      <td>75.8</td>\n",
       "    </tr>\n",
       "    <tr>\n",
       "      <th>3214684</th>\n",
       "      <td>Single, Middle-income</td>\n",
       "      <td>99993</td>\n",
       "      <td>23</td>\n",
       "      <td>59.5</td>\n",
       "    </tr>\n",
       "  </tbody>\n",
       "</table>\n",
       "<p>3214685 rows × 4 columns</p>\n",
       "</div>"
      ],
      "text/plain": [
       "                     lifestyle user_id  order_number  prices\n",
       "0         Married, High-income  100018             1    66.2\n",
       "1         Married, High-income  100018             2   143.1\n",
       "2         Married, High-income  100018             3    32.5\n",
       "3         Married, High-income  100018             4    29.2\n",
       "4         Married, High-income  100018             5    58.2\n",
       "...                        ...     ...           ...     ...\n",
       "3214680  Single, Middle-income   99993            19    72.2\n",
       "3214681  Single, Middle-income   99993            20    81.4\n",
       "3214682  Single, Middle-income   99993            21    60.7\n",
       "3214683  Single, Middle-income   99993            22    75.8\n",
       "3214684  Single, Middle-income   99993            23    59.5\n",
       "\n",
       "[3214685 rows x 4 columns]"
      ]
     },
     "execution_count": 62,
     "metadata": {},
     "output_type": "execute_result"
    }
   ],
   "source": [
    "# View the order expenditures\n",
    "lifestyle_order_totals"
   ]
  },
  {
   "cell_type": "code",
   "execution_count": 63,
   "id": "494b96eb",
   "metadata": {},
   "outputs": [],
   "source": [
    "# Find the expenditure statistics for each customer\n",
    "lifestyle_shopper_total = lifestyle_order_totals.groupby(['lifestyle','user_id',])['prices'].agg(['min','max','mean']).reset_index()"
   ]
  },
  {
   "cell_type": "code",
   "execution_count": 64,
   "id": "a854499e",
   "metadata": {},
   "outputs": [
    {
     "data": {
      "text/html": [
       "<div>\n",
       "<style scoped>\n",
       "    .dataframe tbody tr th:only-of-type {\n",
       "        vertical-align: middle;\n",
       "    }\n",
       "\n",
       "    .dataframe tbody tr th {\n",
       "        vertical-align: top;\n",
       "    }\n",
       "\n",
       "    .dataframe thead th {\n",
       "        text-align: right;\n",
       "    }\n",
       "</style>\n",
       "<table border=\"1\" class=\"dataframe\">\n",
       "  <thead>\n",
       "    <tr style=\"text-align: right;\">\n",
       "      <th></th>\n",
       "      <th>lifestyle</th>\n",
       "      <th>user_id</th>\n",
       "      <th>min</th>\n",
       "      <th>max</th>\n",
       "      <th>mean</th>\n",
       "    </tr>\n",
       "  </thead>\n",
       "  <tbody>\n",
       "    <tr>\n",
       "      <th>0</th>\n",
       "      <td>Married, High-income</td>\n",
       "      <td>100018</td>\n",
       "      <td>7.5</td>\n",
       "      <td>143.1</td>\n",
       "      <td>54.053846</td>\n",
       "    </tr>\n",
       "    <tr>\n",
       "      <th>1</th>\n",
       "      <td>Married, High-income</td>\n",
       "      <td>100051</td>\n",
       "      <td>17.5</td>\n",
       "      <td>160.6</td>\n",
       "      <td>83.807143</td>\n",
       "    </tr>\n",
       "    <tr>\n",
       "      <th>2</th>\n",
       "      <td>Married, High-income</td>\n",
       "      <td>100140</td>\n",
       "      <td>41.4</td>\n",
       "      <td>127.7</td>\n",
       "      <td>78.866667</td>\n",
       "    </tr>\n",
       "    <tr>\n",
       "      <th>3</th>\n",
       "      <td>Married, High-income</td>\n",
       "      <td>100146</td>\n",
       "      <td>21.8</td>\n",
       "      <td>431.5</td>\n",
       "      <td>248.470000</td>\n",
       "    </tr>\n",
       "    <tr>\n",
       "      <th>4</th>\n",
       "      <td>Married, High-income</td>\n",
       "      <td>100156</td>\n",
       "      <td>57.0</td>\n",
       "      <td>99.4</td>\n",
       "      <td>81.814286</td>\n",
       "    </tr>\n",
       "    <tr>\n",
       "      <th>...</th>\n",
       "      <td>...</td>\n",
       "      <td>...</td>\n",
       "      <td>...</td>\n",
       "      <td>...</td>\n",
       "      <td>...</td>\n",
       "    </tr>\n",
       "    <tr>\n",
       "      <th>206204</th>\n",
       "      <td>Single, Middle-income</td>\n",
       "      <td>9995</td>\n",
       "      <td>11.2</td>\n",
       "      <td>187.6</td>\n",
       "      <td>71.462500</td>\n",
       "    </tr>\n",
       "    <tr>\n",
       "      <th>206205</th>\n",
       "      <td>Single, Middle-income</td>\n",
       "      <td>99955</td>\n",
       "      <td>3.7</td>\n",
       "      <td>142.2</td>\n",
       "      <td>52.710309</td>\n",
       "    </tr>\n",
       "    <tr>\n",
       "      <th>206206</th>\n",
       "      <td>Single, Middle-income</td>\n",
       "      <td>99974</td>\n",
       "      <td>47.5</td>\n",
       "      <td>148.1</td>\n",
       "      <td>111.477778</td>\n",
       "    </tr>\n",
       "    <tr>\n",
       "      <th>206207</th>\n",
       "      <td>Single, Middle-income</td>\n",
       "      <td>99981</td>\n",
       "      <td>12.8</td>\n",
       "      <td>118.6</td>\n",
       "      <td>61.733333</td>\n",
       "    </tr>\n",
       "    <tr>\n",
       "      <th>206208</th>\n",
       "      <td>Single, Middle-income</td>\n",
       "      <td>99993</td>\n",
       "      <td>18.3</td>\n",
       "      <td>86.4</td>\n",
       "      <td>49.260870</td>\n",
       "    </tr>\n",
       "  </tbody>\n",
       "</table>\n",
       "<p>206209 rows × 5 columns</p>\n",
       "</div>"
      ],
      "text/plain": [
       "                    lifestyle user_id   min    max        mean\n",
       "0        Married, High-income  100018   7.5  143.1   54.053846\n",
       "1        Married, High-income  100051  17.5  160.6   83.807143\n",
       "2        Married, High-income  100140  41.4  127.7   78.866667\n",
       "3        Married, High-income  100146  21.8  431.5  248.470000\n",
       "4        Married, High-income  100156  57.0   99.4   81.814286\n",
       "...                       ...     ...   ...    ...         ...\n",
       "206204  Single, Middle-income    9995  11.2  187.6   71.462500\n",
       "206205  Single, Middle-income   99955   3.7  142.2   52.710309\n",
       "206206  Single, Middle-income   99974  47.5  148.1  111.477778\n",
       "206207  Single, Middle-income   99981  12.8  118.6   61.733333\n",
       "206208  Single, Middle-income   99993  18.3   86.4   49.260870\n",
       "\n",
       "[206209 rows x 5 columns]"
      ]
     },
     "execution_count": 64,
     "metadata": {},
     "output_type": "execute_result"
    }
   ],
   "source": [
    "# View the expenditure statistics for each customer\n",
    "lifestyle_shopper_total"
   ]
  },
  {
   "cell_type": "code",
   "execution_count": 65,
   "id": "7dfecd5a",
   "metadata": {},
   "outputs": [],
   "source": [
    "# Find the expenditure statistics for each flag\n",
    "lifestyle_price_stats = lifestyle_shopper_total.groupby('lifestyle').agg({'min':'min','max':'max','mean':'mean'}).reset_index()"
   ]
  },
  {
   "cell_type": "code",
   "execution_count": 66,
   "id": "f1140b5f",
   "metadata": {},
   "outputs": [
    {
     "data": {
      "text/html": [
       "<div>\n",
       "<style scoped>\n",
       "    .dataframe tbody tr th:only-of-type {\n",
       "        vertical-align: middle;\n",
       "    }\n",
       "\n",
       "    .dataframe tbody tr th {\n",
       "        vertical-align: top;\n",
       "    }\n",
       "\n",
       "    .dataframe thead th {\n",
       "        text-align: right;\n",
       "    }\n",
       "</style>\n",
       "<table border=\"1\" class=\"dataframe\">\n",
       "  <thead>\n",
       "    <tr style=\"text-align: right;\">\n",
       "      <th></th>\n",
       "      <th>lifestyle</th>\n",
       "      <th>min</th>\n",
       "      <th>max</th>\n",
       "      <th>mean</th>\n",
       "    </tr>\n",
       "  </thead>\n",
       "  <tbody>\n",
       "    <tr>\n",
       "      <th>0</th>\n",
       "      <td>Married, High-income</td>\n",
       "      <td>1.0</td>\n",
       "      <td>100452.9</td>\n",
       "      <td>618.788015</td>\n",
       "    </tr>\n",
       "    <tr>\n",
       "      <th>1</th>\n",
       "      <td>Married, Low-income</td>\n",
       "      <td>1.0</td>\n",
       "      <td>15189.9</td>\n",
       "      <td>56.847248</td>\n",
       "    </tr>\n",
       "    <tr>\n",
       "      <th>2</th>\n",
       "      <td>Married, Middle-income</td>\n",
       "      <td>1.0</td>\n",
       "      <td>100330.2</td>\n",
       "      <td>107.326228</td>\n",
       "    </tr>\n",
       "    <tr>\n",
       "      <th>3</th>\n",
       "      <td>Single, High-income</td>\n",
       "      <td>1.0</td>\n",
       "      <td>100384.5</td>\n",
       "      <td>176.576562</td>\n",
       "    </tr>\n",
       "    <tr>\n",
       "      <th>4</th>\n",
       "      <td>Single, Low-income</td>\n",
       "      <td>1.0</td>\n",
       "      <td>712.0</td>\n",
       "      <td>47.127179</td>\n",
       "    </tr>\n",
       "    <tr>\n",
       "      <th>5</th>\n",
       "      <td>Single, Middle-income</td>\n",
       "      <td>1.0</td>\n",
       "      <td>15045.1</td>\n",
       "      <td>70.154454</td>\n",
       "    </tr>\n",
       "  </tbody>\n",
       "</table>\n",
       "</div>"
      ],
      "text/plain": [
       "                lifestyle  min       max        mean\n",
       "0    Married, High-income  1.0  100452.9  618.788015\n",
       "1     Married, Low-income  1.0   15189.9   56.847248\n",
       "2  Married, Middle-income  1.0  100330.2  107.326228\n",
       "3     Single, High-income  1.0  100384.5  176.576562\n",
       "4      Single, Low-income  1.0     712.0   47.127179\n",
       "5   Single, Middle-income  1.0   15045.1   70.154454"
      ]
     },
     "execution_count": 66,
     "metadata": {},
     "output_type": "execute_result"
    }
   ],
   "source": [
    "# View the expenditure statistics for each flag\n",
    "lifestyle_price_stats"
   ]
  },
  {
   "cell_type": "code",
   "execution_count": 67,
   "id": "90d16dcc",
   "metadata": {},
   "outputs": [
    {
     "data": {
      "image/png": "[encoded data removed]",
      "text/plain": [
       "<Figure size 640x480 with 1 Axes>"
      ]
     },
     "metadata": {},
     "output_type": "display_data"
    }
   ],
   "source": [
    "# Create bar graph for average order expenditure per lifestyle\n",
    "lifestyle_price_bar = sns.barplot(x = 'lifestyle', y = 'mean', data = lifestyle_price_stats, palette = ['#892a58','#b03671','#c94f8a','#d576a4','#e19dbe','#e8b5ce'])\n",
    "# Adjust plot size\n",
    "plt.subplots_adjust(bottom = 0.4)\n",
    "# Add axis labels\n",
    "plt.xlabel('Lifestyle')\n",
    "plt.ylabel('Average Expenditure')\n",
    "plt.title('Average Expenditure per Lifestyle')\n",
    "# Add x tick labels, position adjusted\n",
    "plt.xticks(rotation = 45, ha = 'right')\n",
    "# Save Bar Graph\n",
    "plt.savefig( 'lifestyle_spend_bar.png')"
   ]
  },
  {
   "cell_type": "code",
   "execution_count": 68,
   "id": "a47aae35",
   "metadata": {},
   "outputs": [],
   "source": [
    "# Create crosstable for lifestyle and region\n",
    "lifestyle_reg_cross = pd.crosstab(instacart['Region'], instacart['lifestyle'], dropna = False)"
   ]
  },
  {
   "cell_type": "code",
   "execution_count": 69,
   "id": "da415c15",
   "metadata": {},
   "outputs": [
    {
     "data": {
      "text/html": [
       "<div>\n",
       "<style scoped>\n",
       "    .dataframe tbody tr th:only-of-type {\n",
       "        vertical-align: middle;\n",
       "    }\n",
       "\n",
       "    .dataframe tbody tr th {\n",
       "        vertical-align: top;\n",
       "    }\n",
       "\n",
       "    .dataframe thead th {\n",
       "        text-align: right;\n",
       "    }\n",
       "</style>\n",
       "<table border=\"1\" class=\"dataframe\">\n",
       "  <thead>\n",
       "    <tr style=\"text-align: right;\">\n",
       "      <th>lifestyle</th>\n",
       "      <th>Married, High-income</th>\n",
       "      <th>Married, Low-income</th>\n",
       "      <th>Married, Middle-income</th>\n",
       "      <th>Single, High-income</th>\n",
       "      <th>Single, Low-income</th>\n",
       "      <th>Single, Middle-income</th>\n",
       "    </tr>\n",
       "    <tr>\n",
       "      <th>Region</th>\n",
       "      <th></th>\n",
       "      <th></th>\n",
       "      <th></th>\n",
       "      <th></th>\n",
       "      <th></th>\n",
       "      <th></th>\n",
       "    </tr>\n",
       "  </thead>\n",
       "  <tbody>\n",
       "    <tr>\n",
       "      <th>Midwest</th>\n",
       "      <td>392297</td>\n",
       "      <td>965355</td>\n",
       "      <td>3967956</td>\n",
       "      <td>1361313</td>\n",
       "      <td>20680</td>\n",
       "      <td>889724</td>\n",
       "    </tr>\n",
       "    <tr>\n",
       "      <th>Northeast</th>\n",
       "      <td>293544</td>\n",
       "      <td>725290</td>\n",
       "      <td>3017487</td>\n",
       "      <td>992904</td>\n",
       "      <td>11314</td>\n",
       "      <td>682197</td>\n",
       "    </tr>\n",
       "    <tr>\n",
       "      <th>South</th>\n",
       "      <td>538233</td>\n",
       "      <td>1400520</td>\n",
       "      <td>5621889</td>\n",
       "      <td>1893507</td>\n",
       "      <td>25316</td>\n",
       "      <td>1312420</td>\n",
       "    </tr>\n",
       "    <tr>\n",
       "      <th>West</th>\n",
       "      <td>407699</td>\n",
       "      <td>1045981</td>\n",
       "      <td>4380502</td>\n",
       "      <td>1457845</td>\n",
       "      <td>19380</td>\n",
       "      <td>981506</td>\n",
       "    </tr>\n",
       "  </tbody>\n",
       "</table>\n",
       "</div>"
      ],
      "text/plain": [
       "lifestyle  Married, High-income  Married, Low-income  Married, Middle-income  \\\n",
       "Region                                                                         \n",
       "Midwest                  392297               965355                 3967956   \n",
       "Northeast                293544               725290                 3017487   \n",
       "South                    538233              1400520                 5621889   \n",
       "West                     407699              1045981                 4380502   \n",
       "\n",
       "lifestyle  Single, High-income  Single, Low-income  Single, Middle-income  \n",
       "Region                                                                     \n",
       "Midwest                1361313               20680                 889724  \n",
       "Northeast               992904               11314                 682197  \n",
       "South                  1893507               25316                1312420  \n",
       "West                   1457845               19380                 981506  "
      ]
     },
     "execution_count": 69,
     "metadata": {},
     "output_type": "execute_result"
    }
   ],
   "source": [
    "# View crosstable\n",
    "lifestyle_reg_cross"
   ]
  },
  {
   "cell_type": "code",
   "execution_count": 70,
   "id": "21a8ea22",
   "metadata": {},
   "outputs": [],
   "source": [
    "# Create long table for clustered bar graph\n",
    "reg_lifestyle_long = lifestyle_reg_cross.reset_index().melt(id_vars = 'Region', var_name = 'lifestyle', value_name = 'count')"
   ]
  },
  {
   "cell_type": "code",
   "execution_count": 71,
   "id": "bce3c261",
   "metadata": {},
   "outputs": [
    {
     "data": {
      "image/png": "[encoded data removed]",
      "text/plain": [
       "<Figure size 640x480 with 1 Axes>"
      ]
     },
     "metadata": {},
     "output_type": "display_data"
    }
   ],
   "source": [
    "# Create clustered bar graph for region and lifestyle\n",
    "reg_life_bar = sns.barplot(x = 'Region', y = 'count', hue = 'lifestyle', data = reg_lifestyle_long, palette = ['#892a58','#b03671','#c94f8a','#d576a4','#e19dbe','#e8b5ce'])\n",
    "# Add axis, legend, and title labels\n",
    "plt.xlabel('Region')\n",
    "plt.ylabel('Order Count')\n",
    "plt.title('Order Behavior by Lifestyle and Region')\n",
    "# Save Clustered Bar Graph\n",
    "plt.savefig( 'lifestyle_region_bar.png')"
   ]
  },
  {
   "cell_type": "code",
   "execution_count": 72,
   "id": "037bb103",
   "metadata": {},
   "outputs": [],
   "source": [
    "shopping_behavior_bar.figure.savefig('shopping_behavior_bar.png')"
   ]
  },
  {
   "cell_type": "code",
   "execution_count": 73,
   "id": "3f6f7b80",
   "metadata": {},
   "outputs": [],
   "source": [
    "dep_beh_bar.figure.savefig( 'department_behavior_bar.png')"
   ]
  },
  {
   "cell_type": "code",
   "execution_count": 74,
   "id": "4d2ac19e",
   "metadata": {},
   "outputs": [],
   "source": [
    "instacart.to_pickle( 'instacart.pkl')"
   ]
  },
  {
   "cell_type": "code",
   "execution_count": 75,
   "id": "c8cdd438",
   "metadata": {},
   "outputs": [],
   "source": [
    "behavior_table = instacart['shopping_behavior'].value_counts()"
   ]
  },
  {
   "cell_type": "code",
   "execution_count": 76,
   "id": "6153de09",
   "metadata": {},
   "outputs": [],
   "source": [
    "behavior_table.to_clipboard()"
   ]
  },
  {
   "cell_type": "code",
   "execution_count": 77,
   "id": "08ab705b",
   "metadata": {},
   "outputs": [],
   "source": [
    "lifestyle_table = instacart['lifestyle'].value_counts()"
   ]
  },
  {
   "cell_type": "code",
   "execution_count": 78,
   "id": "48616fae",
   "metadata": {},
   "outputs": [],
   "source": [
    "lifestyle_table.to_clipboard()"
   ]
  },
  {
   "cell_type": "code",
   "execution_count": 79,
   "id": "f6215ef8",
   "metadata": {},
   "outputs": [],
   "source": [
    "price_range_table = instacart['prices'].value_counts()"
   ]
  },
  {
   "cell_type": "code",
   "execution_count": 80,
   "id": "059ff8c6",
   "metadata": {},
   "outputs": [],
   "source": [
    "price_range_table.to_clipboard()"
   ]
  },
  {
   "cell_type": "code",
   "execution_count": 84,
   "id": "625a49bc",
   "metadata": {},
   "outputs": [],
   "source": [
    "busiest_table = instacart['busiest_days'].value_counts()"
   ]
  },
  {
   "cell_type": "code",
   "execution_count": 85,
   "id": "0b6be093",
   "metadata": {},
   "outputs": [],
   "source": [
    "busiest_table.to_clipboard()"
   ]
  },
  {
   "cell_type": "code",
   "execution_count": 86,
   "id": "18637fbe",
   "metadata": {},
   "outputs": [],
   "source": [
    "busiest_period_table = instacart['busiest_period_of_day'].value_counts()"
   ]
  },
  {
   "cell_type": "code",
   "execution_count": 87,
   "id": "0d6f9021",
   "metadata": {},
   "outputs": [],
   "source": [
    "busiest_period_table.to_clipboard()"
   ]
  },
  {
   "cell_type": "code",
   "execution_count": 88,
   "id": "e8ba1013",
   "metadata": {},
   "outputs": [],
   "source": [
    "loyalty_table = instacart['loyalty_flag'].value_counts()"
   ]
  },
  {
   "cell_type": "code",
   "execution_count": 89,
   "id": "7e24b351",
   "metadata": {},
   "outputs": [],
   "source": [
    "loyalty_table.to_clipboard()"
   ]
  },
  {
   "cell_type": "code",
   "execution_count": 90,
   "id": "3f588549",
   "metadata": {},
   "outputs": [],
   "source": [
    "spending_table = instacart['spender_flag'].value_counts()"
   ]
  },
  {
   "cell_type": "code",
   "execution_count": 91,
   "id": "2f3b57f9",
   "metadata": {},
   "outputs": [],
   "source": [
    "spending_table.to_clipboard()"
   ]
  },
  {
   "cell_type": "code",
   "execution_count": 92,
   "id": "648907e3",
   "metadata": {},
   "outputs": [],
   "source": [
    "frequency_table = instacart['frequency_flag'].value_counts()"
   ]
  },
  {
   "cell_type": "code",
   "execution_count": 93,
   "id": "637106bc",
   "metadata": {},
   "outputs": [],
   "source": [
    "frequency_table.to_clipboard()"
   ]
  },
  {
   "cell_type": "code",
   "execution_count": null,
   "id": "25712f5b",
   "metadata": {},
   "outputs": [],
   "source": []
  }
 ],
 "metadata": {
  "kernelspec": {
   "display_name": "Python 3 (ipykernel)",
   "language": "python",
   "name": "python3"
  },
  "language_info": {
   "codemirror_mode": {
    "name": "ipython",
    "version": 3
   },
   "file_extension": ".py",
   "mimetype": "text/x-python",
   "name": "python",
   "nbconvert_exporter": "python",
   "pygments_lexer": "ipython3",
   "version": "3.11.5"
  }
 },
 "nbformat": 4,
 "nbformat_minor": 5
}
