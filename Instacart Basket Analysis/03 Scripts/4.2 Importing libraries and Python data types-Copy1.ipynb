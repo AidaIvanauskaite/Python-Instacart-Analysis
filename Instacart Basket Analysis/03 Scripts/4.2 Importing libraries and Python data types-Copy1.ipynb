{
 "cells": [
  {
   "cell_type": "markdown",
   "id": "5aa176a5-4b24-426a-96de-e5897bd2885d",
   "metadata": {},
   "source": [
    "# 01.Importing libraries"
   ]
  },
  {
   "cell_type": "code",
   "execution_count": 1,
   "id": "c0e4c3c9-24c2-4e1a-8e13-3e600f2d9ca1",
   "metadata": {
    "tags": []
   },
   "outputs": [],
   "source": [
    "# Import libraries\n",
    "import pandas as pd\n",
    "import numpy as np\n",
    "import os"
   ]
  },
  {
   "cell_type": "markdown",
   "id": "0cec8cc4-b2bb-4450-ae1a-cbf7de34f77f",
   "metadata": {},
   "source": [
    "# 02. Data types"
   ]
  },
  {
   "cell_type": "code",
   "execution_count": 2,
   "id": "82e6c267-46c6-4dcc-81f1-d43d5d44fffd",
   "metadata": {
    "tags": []
   },
   "outputs": [],
   "source": [
    "x = 20"
   ]
  },
  {
   "cell_type": "code",
   "execution_count": 3,
   "id": "58da4536-10b7-496b-8dae-a026be9a847a",
   "metadata": {
    "tags": []
   },
   "outputs": [
    {
     "data": {
      "text/plain": [
       "20"
      ]
     },
     "execution_count": 3,
     "metadata": {},
     "output_type": "execute_result"
    }
   ],
   "source": [
    "x"
   ]
  },
  {
   "cell_type": "code",
   "execution_count": 4,
   "id": "1880da31-4c2c-4bd3-b999-a81e691811c0",
   "metadata": {
    "tags": []
   },
   "outputs": [],
   "source": [
    "y = 80"
   ]
  },
  {
   "cell_type": "code",
   "execution_count": 5,
   "id": "23c7cb3e-149a-4cc9-9390-e93456c2508a",
   "metadata": {
    "tags": []
   },
   "outputs": [
    {
     "data": {
      "text/plain": [
       "100"
      ]
     },
     "execution_count": 5,
     "metadata": {},
     "output_type": "execute_result"
    }
   ],
   "source": [
    "x + y"
   ]
  },
  {
   "cell_type": "code",
   "execution_count": 6,
   "id": "c35177fd-e398-4400-99ec-5e18d787ac8e",
   "metadata": {
    "tags": []
   },
   "outputs": [],
   "source": [
    "x = 150"
   ]
  },
  {
   "cell_type": "code",
   "execution_count": 7,
   "id": "158f610f-1247-4e9a-955b-fbbae096fa99",
   "metadata": {
    "tags": []
   },
   "outputs": [],
   "source": [
    "y = 50"
   ]
  },
  {
   "cell_type": "code",
   "execution_count": 8,
   "id": "10b97249-240d-460d-b54f-a3ba18fca555",
   "metadata": {
    "tags": []
   },
   "outputs": [
    {
     "data": {
      "text/plain": [
       "100"
      ]
     },
     "execution_count": 8,
     "metadata": {},
     "output_type": "execute_result"
    }
   ],
   "source": [
    "x - y"
   ]
  },
  {
   "cell_type": "code",
   "execution_count": 9,
   "id": "4e668e40-a0b3-47b4-b872-ac7331e17fa6",
   "metadata": {
    "tags": []
   },
   "outputs": [],
   "source": [
    "x = 200"
   ]
  },
  {
   "cell_type": "code",
   "execution_count": 10,
   "id": "efe67028-6fa7-4df1-887f-e5746b49b46a",
   "metadata": {
    "tags": []
   },
   "outputs": [],
   "source": [
    "y = 2"
   ]
  },
  {
   "cell_type": "code",
   "execution_count": 12,
   "id": "4c95151c-5265-42d4-9402-0c457376ac4a",
   "metadata": {
    "tags": []
   },
   "outputs": [
    {
     "data": {
      "text/plain": [
       "100.0"
      ]
     },
     "execution_count": 12,
     "metadata": {},
     "output_type": "execute_result"
    }
   ],
   "source": [
    "x / y"
   ]
  },
  {
   "cell_type": "code",
   "execution_count": 13,
   "id": "011b5826-330b-404a-9566-1336b81946f8",
   "metadata": {
    "tags": []
   },
   "outputs": [],
   "source": [
    "# Code 2 floating-point variables and divide them by each other"
   ]
  },
  {
   "cell_type": "code",
   "execution_count": 14,
   "id": "feb0078d-0d4c-48e1-bb9d-6b4da14e7e3e",
   "metadata": {
    "tags": []
   },
   "outputs": [],
   "source": [
    "x = 10.5"
   ]
  },
  {
   "cell_type": "code",
   "execution_count": 15,
   "id": "98c99203-bf72-40b9-a928-e0eb58cf38b5",
   "metadata": {
    "tags": []
   },
   "outputs": [],
   "source": [
    "y = 2.9"
   ]
  },
  {
   "cell_type": "code",
   "execution_count": 16,
   "id": "11bc328f-29c7-4242-a902-70a3b4b68b51",
   "metadata": {
    "tags": []
   },
   "outputs": [
    {
     "data": {
      "text/plain": [
       "3.6206896551724137"
      ]
     },
     "execution_count": 16,
     "metadata": {},
     "output_type": "execute_result"
    }
   ],
   "source": [
    "x / y"
   ]
  },
  {
   "cell_type": "code",
   "execution_count": 17,
   "id": "b12503e1-1c5f-4ddd-b557-aca5012fba22",
   "metadata": {
    "tags": []
   },
   "outputs": [],
   "source": [
    "x = 4.1"
   ]
  },
  {
   "cell_type": "code",
   "execution_count": 18,
   "id": "f64d4593-4cd8-43e9-be5f-376098522c2f",
   "metadata": {
    "tags": []
   },
   "outputs": [],
   "source": [
    "y = 1.9"
   ]
  },
  {
   "cell_type": "code",
   "execution_count": 19,
   "id": "88cee3e8-8c8b-470e-9dde-5042b22899aa",
   "metadata": {
    "tags": []
   },
   "outputs": [
    {
     "data": {
      "text/plain": [
       "2.1578947368421053"
      ]
     },
     "execution_count": 19,
     "metadata": {},
     "output_type": "execute_result"
    }
   ],
   "source": [
    "x/y"
   ]
  },
  {
   "cell_type": "code",
   "execution_count": 20,
   "id": "e6778cce-8b99-4557-97b1-cead62103c2f",
   "metadata": {
    "tags": []
   },
   "outputs": [],
   "source": [
    "# Construct a short word made of separate strings"
   ]
  },
  {
   "cell_type": "code",
   "execution_count": 24,
   "id": "e740c596-1321-4719-a2ac-afc6e97b9ef9",
   "metadata": {
    "tags": []
   },
   "outputs": [],
   "source": [
    "x = 'Dark '"
   ]
  },
  {
   "cell_type": "code",
   "execution_count": 22,
   "id": "d37dd4df-f16e-407b-9200-86187d392d88",
   "metadata": {
    "tags": []
   },
   "outputs": [],
   "source": [
    "y = 'city'"
   ]
  },
  {
   "cell_type": "code",
   "execution_count": 25,
   "id": "1535b2db-b64b-4712-8a49-2a27fcab8116",
   "metadata": {
    "tags": []
   },
   "outputs": [
    {
     "data": {
      "text/plain": [
       "'Dark city'"
      ]
     },
     "execution_count": 25,
     "metadata": {},
     "output_type": "execute_result"
    }
   ],
   "source": [
    "x+y"
   ]
  },
  {
   "cell_type": "code",
   "execution_count": 26,
   "id": "8dba3fe1-f43d-4a60-89fc-8f6a30bec1d2",
   "metadata": {
    "tags": []
   },
   "outputs": [],
   "source": [
    "# Construct 2 short sentences made of separate strings"
   ]
  },
  {
   "cell_type": "code",
   "execution_count": 33,
   "id": "3fd15c5f-b72a-4a65-9b47-b9583b724d44",
   "metadata": {
    "tags": []
   },
   "outputs": [],
   "source": [
    "x = 'My sister lives '"
   ]
  },
  {
   "cell_type": "code",
   "execution_count": 34,
   "id": "793bd268-cf55-4a44-9aea-3dec310c4291",
   "metadata": {
    "tags": []
   },
   "outputs": [],
   "source": [
    "y = ' in a small village '"
   ]
  },
  {
   "cell_type": "code",
   "execution_count": 35,
   "id": "912b2a63-0e15-4a71-9a01-be53a774a1c8",
   "metadata": {
    "tags": []
   },
   "outputs": [],
   "source": [
    "z = ' and she loves it'"
   ]
  },
  {
   "cell_type": "code",
   "execution_count": 36,
   "id": "d6ba6fd0-e452-4401-b96c-c4e5b9adc2d0",
   "metadata": {
    "tags": []
   },
   "outputs": [
    {
     "data": {
      "text/plain": [
       "'My sister lives  in a small village  and she loves it'"
      ]
     },
     "execution_count": 36,
     "metadata": {},
     "output_type": "execute_result"
    }
   ],
   "source": [
    "x+y+z"
   ]
  },
  {
   "cell_type": "code",
   "execution_count": 37,
   "id": "ada72617-404e-40cd-a061-b021372af494",
   "metadata": {
    "tags": []
   },
   "outputs": [],
   "source": [
    "x = 'Cats are '"
   ]
  },
  {
   "cell_type": "code",
   "execution_count": 38,
   "id": "0a26f2a8-7057-4882-8825-5a8eb809da28",
   "metadata": {
    "tags": []
   },
   "outputs": [],
   "source": [
    "y = ' very smart '"
   ]
  },
  {
   "cell_type": "code",
   "execution_count": 39,
   "id": "0bd8030e-909e-41bc-b4bf-3581415e309a",
   "metadata": {
    "tags": []
   },
   "outputs": [],
   "source": [
    "z = ' and can survive alone'"
   ]
  },
  {
   "cell_type": "code",
   "execution_count": 40,
   "id": "160ef899-bd5b-48cd-a51b-463d0a6efef5",
   "metadata": {
    "tags": []
   },
   "outputs": [
    {
     "data": {
      "text/plain": [
       "'Cats are  very smart  and can survive alone'"
      ]
     },
     "execution_count": 40,
     "metadata": {},
     "output_type": "execute_result"
    }
   ],
   "source": [
    "x+y+z"
   ]
  },
  {
   "cell_type": "code",
   "execution_count": null,
   "id": "00c61eb4-bb7f-4896-b117-20c902980f17",
   "metadata": {},
   "outputs": [],
   "source": []
  }
 ],
 "metadata": {
  "kernelspec": {
   "display_name": "Python 3 (ipykernel)",
   "language": "python",
   "name": "python3"
  },
  "language_info": {
   "codemirror_mode": {
    "name": "ipython",
    "version": 3
   },
   "file_extension": ".py",
   "mimetype": "text/x-python",
   "name": "python",
   "nbconvert_exporter": "python",
   "pygments_lexer": "ipython3",
   "version": "3.11.5"
  }
 },
 "nbformat": 4,
 "nbformat_minor": 5
}
